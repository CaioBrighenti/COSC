{
 "cells": [
  {
   "cell_type": "markdown",
   "metadata": {},
   "source": [
    "# Python Practice"
   ]
  },
  {
   "cell_type": "markdown",
   "metadata": {},
   "source": [
    "The is an exercise in using some of the more advanced python tools described in Ch. 2 and 3 of DSFS.\n",
    "\n",
    "The task centers around writing functions that evaluate, plot, and approximately integrate polynomial functions.  Recall that an $n^{th}$-degree polynomial function of $x$ can be defined in terms of a sequence of coefficients $a_0, a_1, \\dots, a_n$ as follows:\n",
    "\n",
    "$$f(x) = a_0 + a_1 x + a_2 x^2 + \\cdots + a_n x^n$$"
   ]
  },
  {
   "cell_type": "markdown",
   "metadata": {},
   "source": [
    "*Pro tip*: If you make changes to your code and rerun a python notebook, your changes may not be detected because python is lazy about reloading modules.  The following two lines will force reloads."
   ]
  },
  {
   "cell_type": "code",
   "execution_count": 7,
   "metadata": {},
   "outputs": [
    {
     "name": "stdout",
     "output_type": "stream",
     "text": [
      "The autoreload extension is already loaded. To reload it, use:\n",
      "  %reload_ext autoreload\n"
     ]
    }
   ],
   "source": [
    "%load_ext autoreload\n",
    "%autoreload 2"
   ]
  },
  {
   "cell_type": "markdown",
   "metadata": {},
   "source": [
    "## Making polynomial functions\n",
    "\n",
    "Implement the functions `eval_polynomial`, `make_polynomial_function` defined in `pythonpractice.py`."
   ]
  },
  {
   "cell_type": "code",
   "execution_count": 12,
   "metadata": {},
   "outputs": [],
   "source": [
    "from pythonpractice import make_polynomial_function"
   ]
  },
  {
   "cell_type": "markdown",
   "metadata": {},
   "source": [
    "Show that your function works by executing it on a few examples:\n",
    "- Create a function `f` that computes $f(x) = 10 - \\frac{1}{2}x$ and then evaluate it at the point $x = 5$\n",
    "- Create a function `g` that computes $g(x) = 3 - 2x + \\frac{1}{4}x^2$ and then evaluate it at the point $x = 10$"
   ]
  },
  {
   "cell_type": "code",
   "execution_count": 15,
   "metadata": {},
   "outputs": [
    {
     "name": "stdout",
     "output_type": "stream",
     "text": [
      "f(5) = 7.5\n",
      "g(10) = 8.0\n"
     ]
    }
   ],
   "source": [
    "# TODO: illustrate that your make_polynomial_function works with a few examples\n",
    "# you should print something nice, like \"f(5) = ...\"\n",
    "f = make_polynomial_function([10, -0.5])\n",
    "g = make_polynomial_function([3, -2, 0.25])\n",
    "ex1 = f(5)\n",
    "ex2 = g(10)\n",
    "print('f(5) = ' + str(ex1))\n",
    "print('g(10) = ' + str(ex2))"
   ]
  },
  {
   "cell_type": "markdown",
   "metadata": {},
   "source": [
    "## Plotting f(x)\n",
    "\n",
    "Implement `plot_fx` and `linspace`, which may be a useful helper function for `plot_fx` and other functions.  Demonstrate your plotting code by plotting the function $f(x) = 18 + \\frac{1}{2}x - \\frac{1}{4}x^2 + \\frac{1}{100} x^3$ over the interval $[-5,30]$."
   ]
  },
  {
   "cell_type": "code",
   "execution_count": 16,
   "metadata": {},
   "outputs": [],
   "source": [
    "%matplotlib inline "
   ]
  },
  {
   "cell_type": "code",
   "execution_count": 18,
   "metadata": {},
   "outputs": [
    {
     "data": {
      "image/png": "[encoded data removed]",
      "text/plain": [
       "<Figure size 432x288 with 1 Axes>"
      ]
     },
     "metadata": {
      "needs_background": "light"
     },
     "output_type": "display_data"
    }
   ],
   "source": [
    "# TODO: illustrate that plot_fx works by plotting above polynomial\n",
    "from pythonpractice import plot_fx\n",
    "h =  make_polynomial_function([18, 0.5, -0.25, 0.01])\n",
    "plot_fx(h, -5, 30, num=50)"
   ]
  },
  {
   "cell_type": "markdown",
   "metadata": {},
   "source": [
    "## Computing an integral approximately\n",
    "\n",
    "Given an integral such as the following $$ \\int_{x_{low}}^{x_{high}} f(x) dx $$ for a given function $f$, \n",
    "write the function `integrate_fn` that approximates the integral using a [Riemann sum](https://en.wikipedia.org/wiki/Riemann_sum).  You can choose which approximation you do, but you are expected to do something more complex than the left and right sums.  For example, the middle sum or the trapezoidal sum would be acceptable (or try something even more challenging as a **challenge problem**)"
   ]
  },
  {
   "cell_type": "code",
   "execution_count": null,
   "metadata": {},
   "outputs": [],
   "source": [
    "from pythonpractice import integrate_fn\n",
    "# TODO: demonstrate that integrate_fn works with a few simple examples"
   ]
  },
  {
   "cell_type": "markdown",
   "metadata": {},
   "source": [
    "## Plotting integral approximation\n",
    "\n",
    "Implement `plot_integration`.  It should draw a figure that is similar to the ones shown on [this page](https://en.wikipedia.org/wiki/Riemann_sum). Demonstrate your plotting code by plotting the polynomial $f(x) = 18 + \\frac{1}{2}x - \\frac{1}{4}x^2 + \\frac{1}{10} x^3$ over the interval $[-5,25]$ with 30 steps.  In your figure, the polynomial should appear as a *smooth* curve."
   ]
  },
  {
   "cell_type": "code",
   "execution_count": 19,
   "metadata": {},
   "outputs": [
    {
     "data": {
      "image/png": "[encoded data removed]",
      "text/plain": [
       "<Figure size 432x288 with 1 Axes>"
      ]
     },
     "metadata": {
      "needs_background": "light"
     },
     "output_type": "display_data"
    }
   ],
   "source": [
    "from pythonpractice import plot_integration\n",
    "# TODO: demonstrate that plot_integration works by plotting the given example\n",
    "h =  make_polynomial_function([18, 0.5, -0.25, 0.01])\n",
    "plot_integration(h, -5, 25, 30)"
   ]
  },
  {
   "cell_type": "markdown",
   "metadata": {},
   "source": [
    "That's it!  You have completed the python practice.  If python is new to you, I strongly encourage you to continue to explore on your own the python functionality described in DSFS Ch. 2 and 3."
   ]
  }
 ],
 "metadata": {
  "kernelspec": {
   "display_name": "Python 3",
   "language": "python",
   "name": "python3"
  },
  "language_info": {
   "codemirror_mode": {
    "name": "ipython",
    "version": 3
   },
   "file_extension": ".py",
   "mimetype": "text/x-python",
   "name": "python",
   "nbconvert_exporter": "python",
   "pygments_lexer": "ipython3",
   "version": "3.7.4"
  }
 },
 "nbformat": 4,
 "nbformat_minor": 1
}
