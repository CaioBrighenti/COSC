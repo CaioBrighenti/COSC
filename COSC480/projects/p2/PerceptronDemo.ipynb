{
 "cells": [
  {
   "cell_type": "markdown",
   "metadata": {},
   "source": [
    "# Perceptron Learning\n",
    "\n",
    "Your task is to implement the Perceptron Learning Algoritm (PLA) and the Pocket algorithm (p. 80 of LFD).  Then try them on some small \"toy\" datasets as well as some larger \"real\" datasets.\n",
    "\n",
    "Your perceptron implementation should work for inputs of arbitrary dimensionality.  However, some of the plots below only make sense when $d=2$."
   ]
  },
  {
   "cell_type": "markdown",
   "metadata": {},
   "source": [
    "## Implementing Learning Algorithms\n",
    "\n",
    "Open `perceptron.py` and implement the functions defined there.  Feel free to test them as you go on the examples below.\n",
    "\n",
    "**TODO**: implement methods in `perceptron.py`."
   ]
  },
  {
   "cell_type": "code",
   "execution_count": 1,
   "metadata": {},
   "outputs": [],
   "source": [
    "%matplotlib inline\n",
    "%load_ext autoreload\n",
    "%autoreload 2\n",
    "import numpy as np\n",
    "import matplotlib.pyplot as plt"
   ]
  },
  {
   "cell_type": "markdown",
   "metadata": {},
   "source": [
    "## Demonstrate your PLA implementation\n",
    "\n",
    "Show that your PLA implementation works on this small dataset.  Visualize the results.\n",
    "\n",
    "**TODO**: implement methods in `viz.py`."
   ]
  },
  {
   "cell_type": "code",
   "execution_count": 2,
   "metadata": {},
   "outputs": [],
   "source": [
    "# example data set, organized by \"column\"\n",
    "years = [5, 0.25, 2, 3, 1, 5, 0]\n",
    "salary = [35, 60, 50, 25, 35, 10, 10]\n",
    "credit = [1, 1, 1, -1, -1, -1, -1]"
   ]
  },
  {
   "cell_type": "code",
   "execution_count": 34,
   "metadata": {},
   "outputs": [],
   "source": [
    "X = list(zip(years, salary))\n",
    "y = credit"
   ]
  },
  {
   "cell_type": "code",
   "execution_count": 35,
   "metadata": {},
   "outputs": [
    {
     "data": {
      "image/png": "[encoded data removed]",
      "text/plain": [
       "<Figure size 432x288 with 1 Axes>"
      ]
     },
     "metadata": {
      "needs_background": "light"
     },
     "output_type": "display_data"
    }
   ],
   "source": [
    "# add labels, adjust axis limits, etc.\n",
    "colormap = {1 : 'b', -1: 'r'}\n",
    "colors = [colormap[cred] for cred in credit]\n",
    "plt.scatter(years, salary, c=colors)\n",
    "# plt.xlim(0, 6)\n",
    "# plt.ylim(0, 75)\n",
    "plt.xlabel('Years in residence')\n",
    "plt.ylabel('Salary (in thousands of dollars)')\n",
    "plt.title('Credit approval decisions')\n",
    "plt.show()"
   ]
  },
  {
   "cell_type": "code",
   "execution_count": 36,
   "metadata": {},
   "outputs": [],
   "source": [
    "from perceptron import pla, pocket\n",
    "from viz import plot_perceptron"
   ]
  },
  {
   "cell_type": "code",
   "execution_count": 38,
   "metadata": {},
   "outputs": [
    {
     "name": "stdout",
     "output_type": "stream",
     "text": [
      "[-38.   -55.75  30.  ]\n",
      "[ -1.  -5. -10.]\n"
     ]
    },
    {
     "data": {
      "image/png": "[encoded data removed]",
      "text/plain": [
       "<Figure size 432x288 with 1 Axes>"
      ]
     },
     "metadata": {
      "needs_background": "light"
     },
     "output_type": "display_data"
    }
   ],
   "source": [
    "# TODO: add a demonstration here\n",
    "w, Ws = pla(X,y,100)\n",
    "pocket_w, pocket_Ws = pocket(X,y,100)\n",
    "print(w)\n",
    "print(pocket_w)\n",
    "plot_perceptron(X,y,w)\n",
    "plot_perceptron(X,y,pocket_w)"
   ]
  },
  {
   "cell_type": "markdown",
   "metadata": {},
   "source": [
    "# Digit classification\n",
    "\n",
    "In this assignment you will apply your perceptron learning algortihms to classify\n",
    "hand-written digits and run a few experiments. The file ``ones-fives-digits-py.mat``\n",
    "is a data file containing the data set, which is split into a\n",
    "training set with 200 examples, and a test set with 194 examples.\n",
    "\n",
    "You can import the data as a Python dictionary like this:\n",
    "``` .python\n",
    "data = scipy.io.loadmat('ones-fives-digits-py.mat')\n",
    "```\n",
    "\n",
    "The code in the cell below first does some setup and then imports the data\n",
    "into the following variables for training and test data:\n",
    "\n",
    "* ``X_train`` - 2d array shape 220 x 400\n",
    "* ``y_train`` - 1d array shape 200\n",
    "* ``X_test`` - 2d array shape 194 x 400\n",
    "* ``y_test`` - 1d array shape 194"
   ]
  },
  {
   "cell_type": "code",
   "execution_count": 141,
   "metadata": {
    "collapsed": true
   },
   "outputs": [],
   "source": [
    "import scipy.io\n",
    "data = scipy.io.loadmat('ones-fives-digits-py.mat')\n",
    "X_train = data['X_train']\n",
    "y_train = data['y_train'].ravel()\n",
    "X_test  = data['X_test']\n",
    "y_test  = data['y_test'].ravel()"
   ]
  },
  {
   "cell_type": "markdown",
   "metadata": {},
   "source": [
    "### Visualize the input\n",
    "\n",
    "Once you have loaded the data, it is helpful to understand how it represents images. \n",
    "Each row of ``X_train`` and ``X_test`` represents a 20 x 20 image as a vector of length 400 \n",
    "containing the pixel intensity values. To see the original image, you can reshape one row of \n",
    "the train or test data into a 20 x 20 matrix and then visualize it using the matlplotlib \n",
    "``imshow`` command. \n",
    "\n",
    "Write code using ``np.reshape`` and ``plt.imshow`` to display the 100th training example as \n",
    "an image. (Hint: use ``cmap='gray'`` in ``plt.imshow`` to view as a grayscale image.)"
   ]
  },
  {
   "cell_type": "code",
   "execution_count": null,
   "metadata": {
    "collapsed": true
   },
   "outputs": [],
   "source": [
    "idx = 0 # you can change to see different inputs from the dataset\n",
    "img = X_train[idx].reshape(20,20)  \n",
    "plt.imshow(img, cmap='gray')"
   ]
  },
  {
   "cell_type": "markdown",
   "metadata": {},
   "source": [
    "### Featurize the input\n",
    "\n",
    "Write some code to convert the 400 image pixels into features that will be useful for classification.  You are free to design whatever features you like (though the book has some useful suggestions).\n",
    "\n",
    "You can create more than two features, but ultimately you should select the two most useful features for visualizing below.\n",
    "\n",
    "**TODO**: implement ``featurize`` in ``perceptron.py``."
   ]
  },
  {
   "cell_type": "code",
   "execution_count": null,
   "metadata": {
    "collapsed": true
   },
   "outputs": [],
   "source": [
    "from perceptron import featurize"
   ]
  },
  {
   "cell_type": "markdown",
   "metadata": {},
   "source": [
    "The following lines will apply your `featurize` function to each input in the training and test datasets."
   ]
  },
  {
   "cell_type": "code",
   "execution_count": null,
   "metadata": {
    "collapsed": true
   },
   "outputs": [],
   "source": [
    "# you should not need to modify these lines\n",
    "X_train = np.apply_along_axis(featurize, 1, X_train)\n",
    "X_test = np.apply_along_axis(featurize, 1, X_test)"
   ]
  },
  {
   "cell_type": "markdown",
   "metadata": {},
   "source": [
    "### Compare PLA vs. Pocket\n",
    "\n",
    "Run your perceptron algorithms on the featurized data.  In the space below, present a thorough comparison of the algorithms.  You have some flexiblity here on your presentation, but some suggestions are:\n",
    "\n",
    "- Visualize the data and the perceptron boundary (repeat for each algorithm, PLA and pocket)\n",
    "- Plot how error, both $E_{in}$ and $E_{out}$ changes with each iteration (repeat for each algorithm, PLA and pocket)\n",
    "- Compare the algorithms in terms of both runtime and accuracy.\n",
    "\n",
    "For visualizations, you may want to look at Fig. 3.2 (p. 83) of LFD for inspiration."
   ]
  },
  {
   "cell_type": "code",
   "execution_count": null,
   "metadata": {
    "collapsed": true
   },
   "outputs": [],
   "source": [
    "# TODO: add your comparison and analysis here"
   ]
  }
 ],
 "metadata": {
  "kernelspec": {
   "display_name": "Python 3",
   "language": "python",
   "name": "python3"
  },
  "language_info": {
   "codemirror_mode": {
    "name": "ipython",
    "version": 3
   },
   "file_extension": ".py",
   "mimetype": "text/x-python",
   "name": "python",
   "nbconvert_exporter": "python",
   "pygments_lexer": "ipython3",
   "version": "3.7.4"
  }
 },
 "nbformat": 4,
 "nbformat_minor": 2
}
