{
 "cells": [
  {
   "cell_type": "markdown",
   "metadata": {},
   "source": [
    "# Perceptron Learning\n",
    "\n",
    "Your task is to implement the Perceptron Learning Algoritm (PLA) and the Pocket algorithm (p. 80 of LFD).  Then try them on some small \"toy\" datasets as well as some larger \"real\" datasets.\n",
    "\n",
    "Your perceptron implementation should work for inputs of arbitrary dimensionality.  However, some of the plots below only make sense when $d=2$."
   ]
  },
  {
   "cell_type": "markdown",
   "metadata": {},
   "source": [
    "## Implementing Learning Algorithms\n",
    "\n",
    "Open `perceptron.py` and implement the functions defined there.  Feel free to test them as you go on the examples below.\n",
    "\n",
    "**TODO**: implement methods in `perceptron.py`."
   ]
  },
  {
   "cell_type": "code",
   "execution_count": 1,
   "metadata": {
    "collapsed": true
   },
   "outputs": [],
   "source": [
    "%matplotlib inline\n",
    "%load_ext autoreload\n",
    "%autoreload 2\n",
    "import numpy as np\n",
    "import matplotlib.pyplot as plt"
   ]
  },
  {
   "cell_type": "markdown",
   "metadata": {},
   "source": [
    "## Demonstrate your PLA implementation\n",
    "\n",
    "Show that your PLA implementation works on this small dataset.  Visualize the results.\n",
    "\n",
    "**TODO**: implement methods in `viz.py`."
   ]
  },
  {
   "cell_type": "code",
   "execution_count": 2,
   "metadata": {
    "collapsed": true
   },
   "outputs": [],
   "source": [
    "# example data set, organized by \"column\"\n",
    "years = [5, 0.25, 2, 3, 1, 5, 0]\n",
    "salary = [35, 60, 50, 25, 35, 10, 10]\n",
    "credit = [1, 1, 1, -1, -1, -1, -1]"
   ]
  },
  {
   "cell_type": "code",
   "execution_count": 3,
   "metadata": {
    "collapsed": true
   },
   "outputs": [],
   "source": [
    "X = list(zip(years, salary))\n",
    "y = credit"
   ]
  },
  {
   "cell_type": "code",
   "execution_count": 4,
   "metadata": {},
   "outputs": [
    {
     "data": {
      "image/png": "[encoded data removed]",
      "text/plain": [
       "<matplotlib.figure.Figure at 0x1683c9609e8>"
      ]
     },
     "metadata": {},
     "output_type": "display_data"
    }
   ],
   "source": [
    "# add labels, adjust axis limits, etc.\n",
    "colormap = {1 : 'b', -1: 'r'}\n",
    "colors = [colormap[cred] for cred in credit]\n",
    "plt.scatter(years, salary, c=colors)\n",
    "# plt.xlim(0, 6)\n",
    "# plt.ylim(0, 75)\n",
    "plt.xlabel('Years in residence')\n",
    "plt.ylabel('Salary (in thousands of dollars)')\n",
    "plt.title('Credit approval decisions')\n",
    "plt.show()"
   ]
  },
  {
   "cell_type": "code",
   "execution_count": 13,
   "metadata": {
    "collapsed": true
   },
   "outputs": [],
   "source": [
    "from perceptron import pla, pocket\n",
    "from viz import plot_perceptron"
   ]
  },
  {
   "cell_type": "code",
   "execution_count": 16,
   "metadata": {},
   "outputs": [
    {
     "name": "stdout",
     "output_type": "stream",
     "text": [
      "0.571428571429\n",
      "0.428571428571\n",
      "0.571428571429\n",
      "0.571428571429\n",
      "0.428571428571\n",
      "0.571428571429\n",
      "0.571428571429\n",
      "0.428571428571\n",
      "0.571428571429\n",
      "0.428571428571\n",
      "0.571428571429\n",
      "0.571428571429\n",
      "0.428571428571\n",
      "0.571428571429\n",
      "0.428571428571\n",
      "0.571428571429\n",
      "0.571428571429\n",
      "0.571428571429\n",
      "0.571428571429\n",
      "0.428571428571\n",
      "0.571428571429\n",
      "0.571428571429\n",
      "0.571428571429\n",
      "0.428571428571\n",
      "0.571428571429\n",
      "0.571428571429\n",
      "0.571428571429\n",
      "0.428571428571\n",
      "0.428571428571\n",
      "0.571428571429\n",
      "0.571428571429\n",
      "0.571428571429\n",
      "0.428571428571\n",
      "0.428571428571\n",
      "0.571428571429\n",
      "0.428571428571\n",
      "0.571428571429\n",
      "0.571428571429\n",
      "0.428571428571\n",
      "0.571428571429\n",
      "0.571428571429\n",
      "0.428571428571\n",
      "0.428571428571\n",
      "0.571428571429\n",
      "0.428571428571\n",
      "0.571428571429\n",
      "0.571428571429\n",
      "0.428571428571\n",
      "0.428571428571\n",
      "0.571428571429\n",
      "0.571428571429\n",
      "0.428571428571\n",
      "0.428571428571\n",
      "0.571428571429\n",
      "0.428571428571\n",
      "0.571428571429\n",
      "0.428571428571\n",
      "0.428571428571\n",
      "0.428571428571\n",
      "0.571428571429\n",
      "0.571428571429\n",
      "0.428571428571\n",
      "0.428571428571\n",
      "0.571428571429\n",
      "0.428571428571\n",
      "0.428571428571\n",
      "0.428571428571\n",
      "0.428571428571\n",
      "0.428571428571\n",
      "0.428571428571\n",
      "0.571428571429\n",
      "0.571428571429\n",
      "0.428571428571\n",
      "0.428571428571\n",
      "0.428571428571\n",
      "0.428571428571\n",
      "0.571428571429\n",
      "0.571428571429\n",
      "0.428571428571\n",
      "0.428571428571\n",
      "0.571428571429\n",
      "0.571428571429\n",
      "0.428571428571\n",
      "0.428571428571\n",
      "0.428571428571\n",
      "0.571428571429\n",
      "0.428571428571\n",
      "0.428571428571\n",
      "0.428571428571\n",
      "0.428571428571\n",
      "0.428571428571\n",
      "0.428571428571\n",
      "0.571428571429\n",
      "0.428571428571\n",
      "0.428571428571\n",
      "0.571428571429\n",
      "0.428571428571\n",
      "0.428571428571\n",
      "0.571428571429\n",
      "0.428571428571\n",
      "0.428571428571\n",
      "0.428571428571\n",
      "0.571428571429\n",
      "0.428571428571\n",
      "0.428571428571\n",
      "0.571428571429\n",
      "0.428571428571\n",
      "0.428571428571\n",
      "0.571428571429\n",
      "0.571428571429\n",
      "0.428571428571\n",
      "0.428571428571\n",
      "0.428571428571\n",
      "0.428571428571\n",
      "0.428571428571\n",
      "0.428571428571\n",
      "0.571428571429\n",
      "0.428571428571\n",
      "0.428571428571\n",
      "0.571428571429\n",
      "0.428571428571\n",
      "0.428571428571\n",
      "0.428571428571\n",
      "0.428571428571\n",
      "0.571428571429\n",
      "0.428571428571\n",
      "0.428571428571\n",
      "0.428571428571\n",
      "0.285714285714\n",
      "0.428571428571\n",
      "0.285714285714\n",
      "0.571428571429\n",
      "0.428571428571\n",
      "0.428571428571\n",
      "0.428571428571\n",
      "0.428571428571\n",
      "0.571428571429\n",
      "0.428571428571\n",
      "0.428571428571\n",
      "0.571428571429\n",
      "0.285714285714\n",
      "0.428571428571\n",
      "0.285714285714\n",
      "0.428571428571\n",
      "0.285714285714\n",
      "0.428571428571\n",
      "0.428571428571\n",
      "0.428571428571\n",
      "0.428571428571\n",
      "0.428571428571\n",
      "0.571428571429\n",
      "0.428571428571\n",
      "0.571428571429\n",
      "0.571428571429\n",
      "0.428571428571\n",
      "0.571428571429\n",
      "0.428571428571\n",
      "0.571428571429\n",
      "0.428571428571\n",
      "0.285714285714\n",
      "0.571428571429\n",
      "0.285714285714\n",
      "0.571428571429\n",
      "0.285714285714\n",
      "0.571428571429\n",
      "0.571428571429\n",
      "0.428571428571\n",
      "0.428571428571\n",
      "0.428571428571\n",
      "0.428571428571\n",
      "0.428571428571\n",
      "0.571428571429\n",
      "0.428571428571\n",
      "0.428571428571\n",
      "0.571428571429\n",
      "0.428571428571\n",
      "0.285714285714\n",
      "0.428571428571\n",
      "0.428571428571\n",
      "0.428571428571\n",
      "0.428571428571\n",
      "0.428571428571\n",
      "0.428571428571\n",
      "0.428571428571\n",
      "0.428571428571\n",
      "0.571428571429\n",
      "0.428571428571\n",
      "0.428571428571\n",
      "0.571428571429\n",
      "0.428571428571\n",
      "0.428571428571\n",
      "0.571428571429\n",
      "0.571428571429\n",
      "0.428571428571\n",
      "0.428571428571\n",
      "0.428571428571\n",
      "0.428571428571\n",
      "0.428571428571\n",
      "0.571428571429\n",
      "0.428571428571\n",
      "[array([ 0.,  0.,  0.]), array([ -1.,  -1., -35.]), array([  0.,   1.,  15.]), array([-1., -4.,  5.]), array([ -2.,  -7., -20.]), array([ -1.  ,  -6.75,  40.  ]), array([ -2.  ,  -9.75,  15.  ]), array([ -3.  , -10.75, -20.  ]), array([ -2.  ,  -8.75,  30.  ]), array([-3.  , -9.75, -5.  ]), array([ -2.  ,  -4.75,  30.  ]), array([-3.  , -7.75,  5.  ]), array([ -4.  , -10.75, -20.  ]), array([ -3.  ,  -5.75,  15.  ]), array([ -4.  ,  -8.75, -10.  ]), array([ -3.  ,  -6.75,  40.  ]), array([ -4.  ,  -6.75,  30.  ]), array([ -5.  ,  -6.75,  20.  ]), array([ -6.  ,  -6.75,  10.  ]), array([ -7.  , -11.75,   0.  ]), array([ -6.  ,  -9.75,  50.  ]), array([ -7.  , -12.75,  25.  ]), array([ -8.  , -12.75,  15.  ]), array([ -9.  , -15.75, -10.  ]), array([ -8.  , -13.75,  40.  ]), array([ -9.  , -18.75,  30.  ]), array([-10.  , -18.75,  20.  ]), array([-11.  , -23.75,  10.  ]), array([-12.  , -23.75,   0.  ]), array([-11. , -23.5,  60. ]), array([-12. , -26.5,  35. ]), array([-13. , -26.5,  25. ]), array([-14. , -31.5,  15. ]), array([-15. , -32.5, -20. ]), array([-14. , -30.5,  30. ]), array([-15. , -31.5,  -5. ]), array([-14. , -26.5,  30. ]), array([-15. , -26.5,  20. ]), array([-16. , -29.5,  -5. ]), array([-15.  , -29.25,  55.  ]), array([-16.  , -32.25,  30.  ]), array([-17.  , -37.25,  20.  ]), array([-18.  , -38.25, -15.  ]), array([-17.  , -33.25,  20.  ]), array([-18.  , -36.25,  -5.  ]), array([-17., -36.,  55.]), array([-18., -39.,  30.]), array([-19., -39.,  20.]), array([-20., -40., -15.]), array([-19.  , -39.75,  45.  ]), array([-20.  , -44.75,  35.  ]), array([-21.  , -47.75,  10.  ]), array([-22.  , -48.75, -25.  ]), array([-21. , -48.5,  35. ]), array([-22. , -49.5,   0. ]), array([-21. , -47.5,  50. ]), array([-22. , -50.5,  25. ]), array([-23. , -50.5,  15. ]), array([-24. , -50.5,   5. ]), array([-23. , -45.5,  40. ]), array([-24. , -50.5,  30. ]), array([-25. , -53.5,   5. ]), array([-26. , -53.5,  -5. ]), array([-25. , -51.5,  45. ]), array([-26. , -54.5,  20. ]), array([-27. , -54.5,  10. ]), array([-28. , -57.5, -15. ]), array([-27. , -52.5,  20. ]), array([-28. , -52.5,  10. ]), array([-29. , -55.5, -15. ]), array([-28.  , -55.25,  45.  ]), array([-29.  , -55.25,  35.  ]), array([-30.  , -55.25,  25.  ]), array([-31.  , -56.25, -10.  ]), array([-30.  , -51.25,  25.  ]), array([-31.  , -54.25,   0.  ]), array([-30., -54.,  60.]), array([-31., -57.,  35.]), array([-32., -60.,  10.]), array([-33., -63., -15.]), array([-32.  , -62.75,  45.  ]), array([-33.  , -63.75,  10.  ]), array([-34.  , -64.75, -25.  ]), array([-33.  , -62.75,  25.  ]), array([-34.  , -65.75,   0.  ]), array([-33. , -65.5,  60. ]), array([-34. , -66.5,  25. ]), array([-35. , -69.5,   0. ]), array([-34. , -64.5,  35. ]), array([-35. , -64.5,  25. ]), array([-36. , -64.5,  15. ]), array([-37. , -64.5,   5. ]), array([-36. , -59.5,  40. ]), array([-37. , -64.5,  30. ]), array([-38. , -65.5,  -5. ]), array([-37.  , -65.25,  55.  ]), array([-38.  , -66.25,  20.  ]), array([-39.  , -67.25, -15.  ]), array([-38., -67.,  45.]), array([-39., -67.,  35.]), array([-40., -67.,  25.]), array([-41., -68., -10.]), array([-40., -66.,  40.]), array([-41., -69.,  15.]), array([-42., -69.,   5.]), array([-41., -64.,  40.]), array([-42., -64.,  30.]), array([-43., -65.,  -5.]), array([-42.  , -64.75,  55.  ]), array([-43.  , -64.75,  45.  ]), array([-44.  , -64.75,  35.  ]), array([-45.  , -64.75,  25.  ]), array([-46.  , -67.75,   0.  ]), array([-45.  , -62.75,  35.  ]), array([-46.  , -62.75,  25.  ]), array([-47.  , -65.75,   0.  ]), array([-46. , -65.5,  60. ]), array([-47. , -66.5,  25. ]), array([-48. , -67.5, -10. ]), array([-47.  , -67.25,  50.  ]), array([-48.  , -70.25,  25.  ]), array([-49.  , -73.25,   0.  ]), array([-48.  , -68.25,  35.  ]), array([-49.  , -69.25,   0.  ]), array([-48., -69.,  60.]), array([-49., -72.,  35.]), array([-50., -72.,  25.]), array([-51., -72.,  15.]), array([-52., -72.,   5.]), array([-53., -73., -30.]), array([-52., -68.,   5.]), array([-51., -63.,  40.]), array([-52., -66.,  15.]), array([-53., -69., -10.]), array([-52., -64.,  25.]), array([-53., -65., -10.]), array([-52., -63.,  40.]), array([-53., -66.,  15.]), array([-54., -69., -10.]), array([-53., -67.,  40.]), array([-54., -68.,   5.]), array([-55., -69., -30.]), array([-54., -64.,   5.]), array([-55., -65., -30.]), array([-54., -60.,   5.]), array([-55., -61., -30.]), array([-54., -59.,  20.]), array([-55., -60., -15.]), array([-54., -55.,  20.]), array([-55., -56., -15.]), array([-54.  , -55.75,  45.  ]), array([-55.  , -60.75,  35.  ]), array([-56.  , -63.75,  10.  ]), array([-55.  , -58.75,  45.  ]), array([-56.  , -61.75,  20.  ]), array([-57.  , -61.75,  10.  ]), array([-58.  , -61.75,   0.  ]), array([-57.  , -59.75,  50.  ]), array([-58.  , -60.75,  15.  ]), array([-59.  , -60.75,   5.  ]), array([-58.  , -55.75,  40.  ]), array([-59.  , -56.75,   5.  ]), array([-58.  , -51.75,  40.  ]), array([-59.  , -52.75,   5.  ]), array([-58.  , -47.75,  40.  ]), array([-59.  , -47.75,  30.  ]), array([-60.  , -47.75,  20.  ]), array([-61.  , -47.75,  10.  ]), array([-62.  , -48.75, -25.  ]), array([-61.  , -46.75,  25.  ]), array([-62.  , -49.75,   0.  ]), array([-61.  , -47.75,  50.  ]), array([-62.  , -50.75,  25.  ]), array([-63.  , -51.75, -10.  ]), array([-62. , -51.5,  50. ]), array([-63. , -52.5,  15. ]), array([-64. , -52.5,   5. ]), array([-65. , -53.5, -30. ]), array([-64. , -51.5,  20. ]), array([-65. , -51.5,  10. ]), array([-66. , -54.5, -15. ]), array([-65. , -49.5,  20. ]), array([-66. , -52.5,  -5. ]), array([-65. , -47.5,  30. ]), array([-66. , -48.5,  -5. ]), array([-65.  , -48.25,  55.  ]), array([-66.  , -51.25,  30.  ]), array([-67.  , -52.25,  -5.  ]), array([-66., -52.,  55.]), array([-67., -53.,  20.]), array([-68., -56.,  -5.]), array([-67.  , -55.75,  55.  ]), array([-68.  , -60.75,  45.  ]), array([-69.  , -60.75,  35.  ]), array([-70.  , -63.75,  10.  ]), array([-71.  , -63.75,   0.  ]), array([-70.  , -58.75,  35.  ]), array([-71.  , -59.75,   0.  ]), array([-70.  , -54.75,  35.  ]), array([-71.  , -54.75,  25.  ]), array([-72.  , -54.75,  15.  ])]\n",
      "[-52.  -73.5   5. ]\n"
     ]
    },
    {
     "data": {
      "image/png": "[encoded data removed]",
      "text/plain": [
       "<matplotlib.figure.Figure at 0x1683d1b0518>"
      ]
     },
     "metadata": {},
     "output_type": "display_data"
    }
   ],
   "source": [
    "# TODO: add a demonstration here\n",
    "w, Ws = pla(X,y,200)\n",
    "#pocket_w, pocket_Ws = pocket(X,y,200)\n",
    "print(Ws)\n",
    "#print(pocket_w)\n",
    "plot_perceptron(X,y,(0,1,1))"
   ]
  },
  {
   "cell_type": "markdown",
   "metadata": {},
   "source": [
    "# Digit classification\n",
    "\n",
    "In this assignment you will apply your perceptron learning algortihms to classify\n",
    "hand-written digits and run a few experiments. The file ``ones-fives-digits-py.mat``\n",
    "is a data file containing the data set, which is split into a\n",
    "training set with 200 examples, and a test set with 194 examples.\n",
    "\n",
    "You can import the data as a Python dictionary like this:\n",
    "``` .python\n",
    "data = scipy.io.loadmat('ones-fives-digits-py.mat')\n",
    "```\n",
    "\n",
    "The code in the cell below first does some setup and then imports the data\n",
    "into the following variables for training and test data:\n",
    "\n",
    "* ``X_train`` - 2d array shape 220 x 400\n",
    "* ``y_train`` - 1d array shape 200\n",
    "* ``X_test`` - 2d array shape 194 x 400\n",
    "* ``y_test`` - 1d array shape 194"
   ]
  },
  {
   "cell_type": "code",
   "execution_count": 141,
   "metadata": {
    "collapsed": true
   },
   "outputs": [],
   "source": [
    "import scipy.io\n",
    "data = scipy.io.loadmat('ones-fives-digits-py.mat')\n",
    "X_train = data['X_train']\n",
    "y_train = data['y_train'].ravel()\n",
    "X_test  = data['X_test']\n",
    "y_test  = data['y_test'].ravel()"
   ]
  },
  {
   "cell_type": "markdown",
   "metadata": {},
   "source": [
    "### Visualize the input\n",
    "\n",
    "Once you have loaded the data, it is helpful to understand how it represents images. \n",
    "Each row of ``X_train`` and ``X_test`` represents a 20 x 20 image as a vector of length 400 \n",
    "containing the pixel intensity values. To see the original image, you can reshape one row of \n",
    "the train or test data into a 20 x 20 matrix and then visualize it using the matlplotlib \n",
    "``imshow`` command. \n",
    "\n",
    "Write code using ``np.reshape`` and ``plt.imshow`` to display the 100th training example as \n",
    "an image. (Hint: use ``cmap='gray'`` in ``plt.imshow`` to view as a grayscale image.)"
   ]
  },
  {
   "cell_type": "code",
   "execution_count": null,
   "metadata": {
    "collapsed": true
   },
   "outputs": [],
   "source": [
    "idx = 0 # you can change to see different inputs from the dataset\n",
    "img = X_train[idx].reshape(20,20)  \n",
    "plt.imshow(img, cmap='gray')"
   ]
  },
  {
   "cell_type": "markdown",
   "metadata": {},
   "source": [
    "### Featurize the input\n",
    "\n",
    "Write some code to convert the 400 image pixels into features that will be useful for classification.  You are free to design whatever features you like (though the book has some useful suggestions).\n",
    "\n",
    "You can create more than two features, but ultimately you should select the two most useful features for visualizing below.\n",
    "\n",
    "**TODO**: implement ``featurize`` in ``perceptron.py``."
   ]
  },
  {
   "cell_type": "code",
   "execution_count": null,
   "metadata": {
    "collapsed": true
   },
   "outputs": [],
   "source": [
    "from perceptron import featurize"
   ]
  },
  {
   "cell_type": "markdown",
   "metadata": {},
   "source": [
    "The following lines will apply your `featurize` function to each input in the training and test datasets."
   ]
  },
  {
   "cell_type": "code",
   "execution_count": null,
   "metadata": {
    "collapsed": true
   },
   "outputs": [],
   "source": [
    "# you should not need to modify these lines\n",
    "X_train = np.apply_along_axis(featurize, 1, X_train)\n",
    "X_test = np.apply_along_axis(featurize, 1, X_test)"
   ]
  },
  {
   "cell_type": "markdown",
   "metadata": {},
   "source": [
    "### Compare PLA vs. Pocket\n",
    "\n",
    "Run your perceptron algorithms on the featurized data.  In the space below, present a thorough comparison of the algorithms.  You have some flexiblity here on your presentation, but some suggestions are:\n",
    "\n",
    "- Visualize the data and the perceptron boundary (repeat for each algorithm, PLA and pocket)\n",
    "- Plot how error, both $E_{in}$ and $E_{out}$ changes with each iteration (repeat for each algorithm, PLA and pocket)\n",
    "- Compare the algorithms in terms of both runtime and accuracy.\n",
    "\n",
    "For visualizations, you may want to look at Fig. 3.2 (p. 83) of LFD for inspiration."
   ]
  },
  {
   "cell_type": "code",
   "execution_count": null,
   "metadata": {
    "collapsed": true
   },
   "outputs": [],
   "source": [
    "# TODO: add your comparison and analysis here"
   ]
  }
 ],
 "metadata": {
  "kernelspec": {
   "display_name": "Python 3",
   "language": "python",
   "name": "python3"
  },
  "language_info": {
   "codemirror_mode": {
    "name": "ipython",
    "version": 3
   },
   "file_extension": ".py",
   "mimetype": "text/x-python",
   "name": "python",
   "nbconvert_exporter": "python",
   "pygments_lexer": "ipython3",
   "version": "3.6.3"
  }
 },
 "nbformat": 4,
 "nbformat_minor": 2
}
