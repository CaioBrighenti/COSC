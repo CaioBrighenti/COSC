{
 "cells": [
  {
   "cell_type": "markdown",
   "metadata": {
    "nbpresent": {
     "id": "bd219f5b-9c65-4402-94f0-5e1933cc040f"
    }
   },
   "source": [
    "$$\n",
    "\\newcommand{\\R}{\\mathbb{R}}\n",
    "\\renewcommand{\\b}{\\mathbf}\n",
    "\\newcommand{\\u}{\\mathbf{u}}\n",
    "\\newcommand{\\v}{\\mathbf{v}}\n",
    "$$\n",
    "\n",
    "\n",
    "# Movie Recommendations\n",
    "\n",
    "*Credits: this assignment adapted with permission from Dan Sheldon.*\n",
    "\n",
    "\n",
    "| user  | Moonlight | The Shape of Water   | Frozen | Moana     |\n",
    "|-------|-----------|----------------------|--------|-----------| \n",
    "|Alice  |   5       |          4           |    1   |           |\n",
    "|Bob    |           |          5           |        |    2      |\n",
    "|Carol  |           |                      |        |    5      |\n",
    "|David  |           |                      |    5   |    5      |\n",
    "|Eve    |   5       |          4           |        |           |\n",
    "\n",
    "\n",
    "What movie should I recommend to Bob?\n",
    "Will Carol like Frozen?\n",
    "\n",
    "**Goal**: Fill in entries of the \"rating matrix\""
   ]
  },
  {
   "cell_type": "markdown",
   "metadata": {
    "nbpresent": {
     "id": "417fa0e4-6c70-4b9f-a42c-876215db961d"
    }
   },
   "source": [
    "# Problem Setup\n",
    "\n",
    "Let's formalize this as a machine learning problem. To make it concrete, let's load some data and see what it looks like."
   ]
  },
  {
   "cell_type": "code",
   "execution_count": null,
   "metadata": {
    "nbpresent": {
     "id": "7121a063-dcd8-4ef3-9b68-fdeb4690a1aa"
    }
   },
   "outputs": [],
   "source": [
    "%load_ext autoreload\n",
    "%autoreload 2\n",
    "%matplotlib inline\n",
    "import numpy as np\n",
    "import matplotlib.pyplot as plt\n",
    "import pandas as pd\n",
    "from IPython.display import display\n",
    "import scipy.io\n",
    "\n",
    "# Load train and test data\n",
    "data = scipy.io.loadmat('movies.mat')\n",
    "\n",
    "titles = [t[0] for t in data['movieData']['title'][0,0].ravel()]\n",
    "\n",
    "for x,y in data.items():\n",
    "    if isinstance(y, (np.ndarray)) and len(y)==1:\n",
    "        data[x] = np.asscalar(y)\n",
    "    elif isinstance(y, (np.ndarray)):\n",
    "        data[x] = y.ravel()\n",
    "\n",
    "nUsers    = data['nUsers']\n",
    "nMovies   = data['nMovies']\n",
    "userData  = data['userData']\n",
    "movieData = data['movieData']\n",
    "\n",
    "train_user   = data['train_user']-1   # matlab 1-index correction\n",
    "train_movie  = data['train_movie']-1  # matlab 1-index correction\n",
    "train_rating = data['train_rating']\n",
    "\n",
    "valid_user   = data['valid_user']-1   # matlab 1-index correction\n",
    "valid_movie  = data['valid_movie']-1  # matlab 1-index correction\n",
    "valid_rating = data['valid_rating']\n",
    "\n",
    "test_user    = data['test_user']-1    # matlab 1-index correction\n",
    "test_movie   = data['test_movie']-1   # matlab 1-index correction\n",
    "\n",
    "\n",
    "# Create a pandas data frame for training data to facilitate\n",
    "# visualization and inspection\n",
    "\n",
    "train_title = [titles[i] for i in train_movie]\n",
    "\n",
    "train_data = pd.DataFrame(data = {'user_id' : train_user, \n",
    "                                  'movie_id' : train_movie,\n",
    "                                  'rating' : train_rating,\n",
    "                                  'title': train_title}, \n",
    "                         columns = ['user_id', 'movie_id', 'rating', 'title'])\n",
    "\n",
    "# subsample to 5000 rows to more easily see a small sampling of ratings for each user\n",
    "train_data = train_data[:5000]\n",
    "\n",
    "# sort by user\n",
    "train_data = train_data.sort_values(by=['user_id', 'rating'])\n",
    "\n",
    "train_data.head() # display first few rows"
   ]
  },
  {
   "cell_type": "markdown",
   "metadata": {
    "nbpresent": {
     "id": "4d66fcd3-b9d3-49cf-a93c-0f4bdcfbf534"
    }
   },
   "source": [
    "## Training Data\n",
    "As we can see, the training data presents observed entries of the \"ratings\" matrix as list of triples $(i_k, j_k, r_k)$ where\n",
    "\n",
    "* $i_k$ is the user index of $k$th rating\n",
    "* $j_k$ is the movie index of $k$th rating\n",
    "* $r_k$ is the value of $k$th rating (1-5)\n",
    "\n",
    "In our code we will store the entries of the tuples in three separate 1d arrays of the same length, so the $k$th rating is represented by the values ``train_user[k]``, ``train_movie[k]``, and ``train_rating[k]``."
   ]
  },
  {
   "cell_type": "markdown",
   "metadata": {
    "nbpresent": {
     "id": "33f22eff-c565-4acc-bd8d-5d40678cb1e5"
    }
   },
   "source": [
    "## Problem Formulation\n",
    "\n",
    "Now, let's formulate the problem mathematically. Suppose there are $m$ users and $n$ movies. \n",
    "Let $R$ be the $m \\times n$ \"rating\" matrix, where $R_{ij}$ is the (possibly unknown) rating for user $i$ on movie $j$. \n",
    "\n",
    "Our training data gives us some of the entries of the rating matrix. Our goal\n",
    "is to learn a parametric model to predict entries that we don't observe.\n",
    "\n",
    "#### But Where are the Features?\n",
    "\n",
    "What sort of predictive model can we use for entries of $R$? \n",
    "\n",
    "In past learning problems we had *feature vectors* and we learned *weight vectors* to make predictions (using dot products). \n",
    "\n",
    "Now we do not have feature vectors. What should we do?"
   ]
  },
  {
   "cell_type": "markdown",
   "metadata": {
    "nbpresent": {
     "id": "ad3301d3-5e9b-4f82-8180-9410aa5fd885"
    }
   },
   "source": [
    "## Matrix Factorization Model\n",
    "\n",
    "Our solution is to **learn weight vectors for both users and movies**. \n",
    "\n",
    "Let $\\u_i \\in \\R^d$ be the weight vector for use $i$ and $\\v_j \\in \\R^d$ be the weight vector for movie $j$. Then we can predict the rating for user $i$ on movie $j$ as:\n",
    "\n",
    "$$\n",
    "H_{ij} =\\u_i^T \\v_j\n",
    "$$\n",
    "\n",
    "Our goal is to learn weight vectors for every user and movie so that $R_{ij} \\approx H_{ij}$ for those entries of the rating matrix that we observe.\n",
    "\n",
    "**Problem statement**: \n",
    "Given observed entries of the rating matrix presented as triples $(i_k, j_k, r_k)$ for $k=1, \\ldots, n_{\\text{train}}$, find weight vectors $\\mathbf{u_i}$ for each user $i$ and $\\mathbf{v}_j$ for each movie $j$ such that:\n",
    "$$\n",
    "r_k \\approx \\mathbf{u_{i_k}}^T \\mathbf{v_{j_k}}, \\quad k=1, 2, \\ldots, n_{\\text{train}}\n",
    "$$"
   ]
  },
  {
   "cell_type": "markdown",
   "metadata": {
    "nbpresent": {
     "id": "3f68ec3c-1530-4569-abd9-306b981a638b"
    }
   },
   "source": [
    "## Why is This Called Matrix Factorization?\n",
    "\n",
    "* Place the user weight vectors $\\u_i$ into the rows of a matrix\n",
    "  $U$ and the movie feature vectors $\\v_j$ into\n",
    "  the rows of a matrix $V$\n",
    "\n",
    "    $$ \n",
    "    \\newcommand{\\line}{-}\n",
    "    U =\n",
    "        \\begin{bmatrix}\n",
    "            \\line \\u_1^T \\line \\\\\n",
    "            \\line \\u_2^T \\line \\\\\n",
    "            \\ldots \\\\\n",
    "            \\line \\u_m^T \\line \\\\\n",
    "        \\end{bmatrix} \\in \\R^{m \\times d}\n",
    "    \\qquad\n",
    "    V =\n",
    "        \\begin{bmatrix}\n",
    "            \\line \\v_1^T \\line \\\\\n",
    "            \\line \\v_2^T \\line \\\\\n",
    "            \\ldots \\\\\n",
    "            \\line \\v_n^T \\line \\\\\n",
    "        \\end{bmatrix} \\in \\R^{n \\times d}\n",
    "    $$\n",
    "\n",
    "* Consider the product $U V^T$:\n",
    "\n",
    "    $$\n",
    "    \\boxed{\n",
    "        \\begin{array}{c}\n",
    "            \\\\\n",
    "            U \\\\\n",
    "            \\\\\n",
    "        \\end{array}\n",
    "        }\n",
    "    \\boxed{\n",
    "        \\begin{array}{c}\n",
    "            \\ \\ \\ V^T \\ \\ \\ \n",
    "        \\end{array}\n",
    "        }\n",
    "    $$\n",
    "  \n",
    "* It is easy to check that $(i,j)$ entry of $UV^T$ is equal to $\\u_i^T\n",
    "  \\v_j$, which is our prediction for the $(i,j)$ entry of $R$\n",
    "\n",
    "* In other words, our model is that $R \\approx U V^T$ (a **factorization**\n",
    "  of $R$)\n",
    "\n",
    "* We choose $U$ and $V$ to get good predictions for those entries of\n",
    "  $R$ that we can observe. As long as we don't overfit, this gives us\n",
    "  power to generalize to entries we don't observe\n",
    "  \n",
    "* The \"hidden dimension\" $d$ (the length of each weight vector) is a hyperparameter\n",
    "  that must be tuned with hold-out data.\n",
    "  "
   ]
  },
  {
   "cell_type": "markdown",
   "metadata": {
    "nbpresent": {
     "id": "c743c2d0-2dc4-4101-881c-01053255f632"
    }
   },
   "source": [
    "## Your Job: Solve the Learning Problem \n",
    "\n",
    "* Formulate a squared error cost function corresponding to the problem statement above.\n",
    "* Add regularization for *every* user weight vector $\\u_i$ and movie weight vector $\\v_j$ to get a regularized cost function\n",
    "* Write down the partial derivatives of your regularized cost function with\n",
    "  respect to the entries of $\\u_i$ and $\\v_j$\n",
    "* Plug the partial derivatives into stochastic gradient descent (SGD)\n",
    "  and write down the update rule\n",
    "* Implement SGD\n",
    "* Tune parameters (e.g., dimension $d$, regularization parameter) get good performance on the validation set\n",
    "\n",
    "\n",
    "Your final notebook should include some analysis (preferably with some figures/statistics reported).  What model did you develop?  What process did you use to fit it?  What are the final parameters?  What intermediate results did you generate that led you to this final parameterization? "
   ]
  },
  {
   "cell_type": "markdown",
   "metadata": {
    "nbpresent": {
     "id": "25aa92a1-20c9-4206-9133-ab31f96cb321"
    }
   },
   "source": [
    "* Submit predictions on test set. \n",
    "* Evaluation: root-mean squared error (RMSE) on test set\n",
    "\n",
    "    $$ \\text{RMSE} = \\sqrt{\\frac{1}{n_{\\text{test}}}\\sum_{(i,j) \\in \\text{test set}} (H_{ij} - R_{ij})^2}$$\n",
    "\n",
    "* A *portion* of your grade will be based on test set performance using the following guidelines:\n",
    "\n",
    "| RMSE   |  grade  |\n",
    "|--------|---------|\n",
    "|>  1.0  |  60%    |\n",
    "|<= 1.0  |  80%    |\n",
    "|<= 0.97 |  90%    |\n",
    "|<= 0.95 |   95%   |\n",
    "|<= 0.94 |  100%   ||\n"
   ]
  },
  {
   "cell_type": "markdown",
   "metadata": {
    "nbpresent": {
     "id": "597ff142-4663-4ddb-bc6f-7b71e1127cc0"
    }
   },
   "source": [
    "## (Review on your own) Model Extension: Add Biases\n",
    "\n",
    "To get really great performance, consider this extended model for a predicted rating:\n",
    "\n",
    "$$\n",
    "H_{ij} = \\mu + a_i + b_j + \\u_i^T \\v_j\n",
    "$$\n",
    "\n",
    "This adds several terms to the prediction for user $i$ on movie $j$:\n",
    "\n",
    "* $\\mu$ is an overall baseline rating. For example, the overall average rating of all users\n",
    "  on all movies may be $\\mu = 3.3$\n",
    "  \n",
    "* $a_i$ is a user-specific adjustment or \"bias\". For example, perhaps Alice\n",
    "  really loves movies and gives them all high ratings. Then, her bias \n",
    "  might be $a_i = +0.4$. But Bob is hard to please, so his bias is $a_i = -0.7$.\n",
    "  \n",
    "* $b_j$ is a movie-specific bias. For example, perhaps Inside Out is universally\n",
    "  loved, so its bias is $b_j = +0.7$. A really bad movie would have a negative bias.\n",
    "\n",
    "The set of parameters of this model includes:\n",
    "\n",
    "* $\\mu$ \n",
    "* $a_i$, $i=1,\\ldots, m$\n",
    "* $b_j$, $j=1,\\ldots, n$\n",
    "* $\\u_i \\in \\R^d$, $i=1,\\ldots, m$\n",
    "* $\\v_j \\in \\R^d$, $j=1,\\ldots, n$\n",
    "\n",
    "To learn these parameters, derive partial derivatives of the regularized\n",
    "cost function with respect to *all* of the above parameters, and update\n",
    "them all within your stochastic gradient descent loop."
   ]
  },
  {
   "cell_type": "markdown",
   "metadata": {},
   "source": [
    "## Further Reading\n",
    "[Matrix Factorization Techniques for Recommender\n",
    "Systems](https://datajobs.com/data-science-repo/Recommender-Systems-[Netflix].pdf)\n",
    "by Yehuda Koren, Robert Bell and Chris Volinsky\n",
    "\n",
    "* Authors were on the winning team of Netflix prize\n",
    "\n",
    "* Paper includes algorithms---but beware different notation"
   ]
  },
  {
   "cell_type": "markdown",
   "metadata": {},
   "source": [
    "## Step 0: Familiarize Yourself With Variables\n",
    "\n",
    "Here are the variables we populated while loading the data above --- make sure you run that cell first."
   ]
  },
  {
   "cell_type": "code",
   "execution_count": null,
   "metadata": {},
   "outputs": [],
   "source": [
    "# 1) Metadata\n",
    "#     \n",
    "#     nUsers     # of users\n",
    "#     nMovies    # of movies\n",
    "#     titles     list of movie titles\n",
    "#\n",
    "#\n",
    "# 2) Training data (60K ratings). This consists of three 1d arrays, \n",
    "#    each of length 60K:\n",
    "#\n",
    "#      train_user, train_movie, train_rating\n",
    "#\n",
    "#    The entries specify the ratings:\n",
    "#   \n",
    "#      train_user[k]    user index  of kth rating\n",
    "#      train_movie[k]   movie index of kth rating\n",
    "#      train_rating[k]  value (1-5) of kth rating\n",
    "#\n",
    "# 2) Validation data (20K ratings). Three vectors of length 20K:\n",
    "#\n",
    "#      valid_user, valid_movie, valid_rating\n",
    "#   \n",
    "#    Use this to evaluate your model and tune parameters.\n",
    "#    \n",
    "# 3) Test set (20K user-movie pairs without ratings):\n",
    "#\n",
    "#      test_user, test_movie\n",
    "#\n",
    "#    You will create predictions for these pairs and submit them for \n",
    "#    grading."
   ]
  },
  {
   "cell_type": "markdown",
   "metadata": {},
   "source": [
    "## Step 1: Look at the Prediction Method\n",
    "\n",
    "To make things concrete, first take a look at the prediction method below. This is just a stub for now that returns the same value ``mu`` for every prediction. Later you will update this to make predictions given the weight vectors and biases."
   ]
  },
  {
   "cell_type": "code",
   "execution_count": null,
   "metadata": {
    "nbpresent": {
     "id": "46a5a100-4e08-43e9-a313-ea1a0f06d149"
    }
   },
   "outputs": [],
   "source": [
    "def rmse(h, r):\n",
    "    resid = h - r\n",
    "    cost = np.sqrt(np.mean(resid**2))\n",
    "    return cost\n",
    "\n",
    "def predict(user, movie, U, V, mu, a, b):\n",
    "    '''\n",
    "    PREDICT Make predictions for user/movie pairs\n",
    "    Inputs: \n",
    "      model parameters\n",
    "      user               vector of users\n",
    "      movie              vector of movies\n",
    "    \n",
    "    Output:\n",
    "      predictions        vector of predictions\n",
    "    '''    \n",
    "    user_weights = U[user,:]\n",
    "    movie_weights = V[movie,:]\n",
    "    user_biases = a[user]\n",
    "    movie_biases = b[movie]\n",
    "    predictions = np.sum(np.multiply(user_weights,movie_weights),axis=1)\n",
    "    predictions = predictions + mu + user_biases + movie_biases\n",
    "    return predictions"
   ]
  },
  {
   "cell_type": "markdown",
   "metadata": {},
   "source": [
    "## Step 2: Learning and Validation\n",
    "\n",
    "Write code here to do the learning and validation. Stubs are provided. Make sure you derive the partial derivatives on paper before you try to code them. "
   ]
  },
  {
   "cell_type": "code",
   "execution_count": null,
   "metadata": {},
   "outputs": [],
   "source": [
    "import mf\n",
    "from mf import error_function, sgd_minimal\n",
    "from tqdm import tqdm\n",
    "############################################\n",
    "# Initialize parameters\n",
    "############################################\n",
    "\n",
    "mu = np.mean(train_rating)\n",
    "a  = np.zeros(nUsers)\n",
    "b  = np.zeros(nMovies)\n",
    "num_iters = 50\n",
    "\n",
    "############################################\n",
    "# Validate d and lambda\n",
    "############################################\n",
    "# init vectors of possible dimensions and reg. parameters\n",
    "d_vector = np.arange(1,100,step=10)\n",
    "num_d = len(d_vector)\n",
    "lambda_vector = np.arange(0,1,step=0.1)\n",
    "num_lambda = len(lambda_vector)\n",
    "params = np.zeros(shape=(num_d*num_lambda,4))\n",
    "# loop through each combination\n",
    "row = 0\n",
    "for i in tqdm(range(num_d)):\n",
    "    for j in range(num_lambda):\n",
    "        # pull out params and init U,V\n",
    "        d = d_vector[i]\n",
    "        U  = np.random.randn(nUsers, d)  *.01 # User weights\n",
    "        V  = np.random.randn(nMovies, d) *.01 # Movie features\n",
    "        lambda_reg = lambda_vector[j]\n",
    "        # train model\n",
    "        U,V,a,b = sgd_minimal(num_iters,train_user,train_movie,train_rating,.01,lambda_reg,U,V,mu,a,b)\n",
    "        # calc errors\n",
    "        train_predictions = predict(train_user, train_movie, U, V, mu, a, b)\n",
    "        valid_predictions = predict(valid_user, valid_movie, U, V, mu, a, b)\n",
    "\n",
    "        train_rmse = rmse(train_predictions, train_rating)\n",
    "        valid_rmse = rmse(valid_predictions, valid_rating)\n",
    "        # store in params matrix\n",
    "        params[row,:] = [d,lambda_reg,train_rmse,valid_rmse]\n",
    "        row = row + 1\n",
    "    "
   ]
  },
  {
   "cell_type": "code",
   "execution_count": null,
   "metadata": {},
   "outputs": [],
   "source": [
    "# surface plot\n",
    "import matplotlib.pyplot as plt\n",
    "from mpl_toolkits.mplot3d import Axes3D\n",
    "fig = plt.figure()\n",
    "ax = fig.add_subplot(111, projection='3d')\n",
    "ax.contour(params[:,0],params[:,1],params[:,3])\n",
    "plt.title(\"Validation RMSE for varying d and lambda \\n Trained on 50 iterations of SGD\")\n",
    "plt.xlabel(\"d\")\n",
    "plt.ylabel(\"lambda\")\n",
    "\n",
    "# find optimal parameters\n",
    "index_min = np.argmin(params[:,3])\n",
    "d_best = int(params[index_min,0])\n",
    "lambda_best = params[index_min,1]\n",
    "print('best parameters: hidden dimension=%.0f, regularization parameter=%.1f' % (d_best, lambda_best))\n"
   ]
  },
  {
   "cell_type": "code",
   "execution_count": null,
   "metadata": {},
   "outputs": [],
   "source": [
    "import mf\n",
    "from mf import error_function, sgd_minimal\n",
    "from tqdm import tqdm\n",
    "############################################\n",
    "# Initialize parameters\n",
    "############################################\n",
    "mu = np.mean(train_rating)\n",
    "a  = np.zeros(nUsers)\n",
    "b  = np.zeros(nMovies)\n",
    "num_iters = 50\n",
    "\n",
    "############################################\n",
    "# Validate step size\n",
    "############################################\n",
    "# init vectors of possible step sizes\n",
    "step_sizes = [0.1,0.01,0.001,0.0001,0.00001,0.000001]\n",
    "num_steps = len(step_sizes)\n",
    "params_steps = np.zeros(shape=(num_steps,3))\n",
    "# loop through each step size\n",
    "for i in tqdm(range(num_steps)):\n",
    "    # pull out params and init U,V\n",
    "    U  = np.random.randn(nUsers, d_best)  *.01 # User weights\n",
    "    V  = np.random.randn(nMovies, d_best) *.01 # Movie features\n",
    "    step_size = step_sizes[i]\n",
    "    # train model\n",
    "    U,V,a,b = sgd_minimal(num_iters,train_user,train_movie,train_rating,step_size,lambda_best,U,V,mu,a,b)\n",
    "    # calc errors\n",
    "    train_predictions = predict(train_user, train_movie, U, V, mu, a, b)\n",
    "    valid_predictions = predict(valid_user, valid_movie, U, V, mu, a, b)\n",
    "\n",
    "    train_rmse = rmse(train_predictions, train_rating)\n",
    "    valid_rmse = rmse(valid_predictions, valid_rating)\n",
    "    # store in params matrix\n",
    "    params_steps[i,:] = [step_size,train_rmse,valid_rmse]"
   ]
  },
  {
   "cell_type": "code",
   "execution_count": null,
   "metadata": {},
   "outputs": [],
   "source": [
    "### plot code adapted from https://python-graph-gallery.com/11-grouped-barplot/\n",
    "# set width of bar\n",
    "barWidth = 0.25\n",
    " \n",
    "# set height of bar\n",
    "bars1 = params_steps[:,1]\n",
    "bars2 = params_steps[:,2]\n",
    " \n",
    "# Set position of bar on X axis\n",
    "r1 = np.arange(len(bars1))\n",
    "r2 = [x + barWidth for x in r1]\n",
    " \n",
    "# Make the plot\n",
    "plt.bar(r1, bars1,width=barWidth, edgecolor='white', label='train')\n",
    "plt.bar(r2, bars2, width=barWidth, edgecolor='white', label='valid')\n",
    " \n",
    "# Add xticks on the middle of the group bars\n",
    "plt.xlabel('step size', fontweight='bold')\n",
    "plt.ylabel('RMSE', fontweight='bold')\n",
    "plt.xticks([r + barWidth for r in range(len(bars1))], params[:,0])\n",
    "\n",
    "# Add min lines\n",
    "min_rmse_train = min(params_steps[:,1])\n",
    "min_rmse_valid = min(params_steps[:,2])\n",
    "plt.axhline(y=min_rmse_train,color=\"#1f77b4\")\n",
    "plt.axhline(y=min_rmse_valid,color=\"#ff7f0e\")\n",
    " \n",
    "# Create legend & Show graphic\n",
    "plt.legend(loc = 'lower right')\n",
    "plt.show()\n",
    "\n",
    "\n",
    "best_step_size = step_sizes[np.argmin(params_steps[:,2])]\n",
    "print(\"Best step size is: \" + str(best_step_size))"
   ]
  },
  {
   "cell_type": "code",
   "execution_count": null,
   "metadata": {
    "nbpresent": {
     "id": "d7cfbdcb-9c6c-4b9b-9d3e-c4ff15e0c74c"
    }
   },
   "outputs": [],
   "source": [
    "# import mf\n",
    "from mf import error_function, sgd, sgd_minimal\n",
    "############################################\n",
    "# Tunable parameters (you will add more)\n",
    "############################################\n",
    "\n",
    "nDims = d_best\n",
    "\n",
    "############################################\n",
    "# Initialize parameters\n",
    "############################################\n",
    "\n",
    "mu = np.mean(train_rating)\n",
    "a  = np.zeros(nUsers)\n",
    "b  = np.zeros(nMovies)\n",
    "U  = np.random.randn(nUsers, nDims)  *.01 # User weights\n",
    "V  = np.random.randn(nMovies, nDims) *.01 # Movie features\n",
    "\n",
    "############################################\n",
    "# Training and validation\n",
    "############################################\n",
    "\n",
    "# TODO: write code to train model and evaluate performance on validation set\n",
    "# \n",
    "#  You are encouraged to define functions in mf.py and import them here.\n",
    "#\n",
    "#  predict() is a stub that predicts the overall mean for all user-movie\n",
    "#  pairs. Update it to take more parameters and make real predictions.\n",
    "\n",
    "\n",
    "### own code\n",
    "train_predictions = predict(train_user, train_movie, U, V, mu, a, b)\n",
    "valid_predictions = predict(valid_user, valid_movie, U, V, mu, a, b)\n",
    "\n",
    "train_rmse = rmse(train_predictions, train_rating)\n",
    "valid_rmse = rmse(valid_predictions, valid_rating)\n",
    "\n",
    "U,V,a,b,train_rmse_hist,valid_rmse_hist = sgd(100,train_user,train_movie,train_rating,best_step_size,lambda_best,U,V,mu,a,b,valid_user, valid_movie,valid_rating)\n",
    "\n",
    "train_predictions = predict(train_user, train_movie, U, V, mu, a, b)\n",
    "valid_predictions = predict(valid_user, valid_movie, U, V, mu, a, b)\n",
    "\n",
    "train_rmse = rmse(train_predictions, train_rating)\n",
    "valid_rmse = rmse(valid_predictions, valid_rating)\n",
    "\n",
    "## error history\n",
    "min_valid = np.argmin(valid_rmse_hist)\n",
    "plt.plot(train_rmse_hist)\n",
    "plt.plot(valid_rmse_hist)\n",
    "plt.title(\"RMSE over iterations of gradient descent \\n d = %.0f, lambda = %.1f, step size = %.2f\" % (d_best,lambda_best,best_step_size))\n",
    "plt.legend(['Train','Validation'])\n",
    "plt.xlabel(\"Iterations\")\n",
    "plt.ylabel(\"RMSE\")\n",
    "plt.axvline(x=min_valid)\n",
    "\n",
    "# final U,V,a,b\n",
    "U,V,a,b = sgd_minimal(min_valid,train_user,train_movie,train_rating,.01,lambda_best,U,V,mu,a,b)\n",
    "train_predictions = predict(train_user, train_movie, U, V, mu, a, b)\n",
    "valid_predictions = predict(valid_user, valid_movie, U, V, mu, a, b)\n",
    "train_rmse = rmse(train_predictions, train_rating)\n",
    "valid_rmse = rmse(valid_predictions, valid_rating)\n",
    "print('after training: train_rmse=%.3f, valid_rmse=%.3f' % (train_rmse, valid_rmse))\n",
    "\n",
    "\n",
    "############################################\n",
    "# Testing\n",
    "############################################\n",
    "\n",
    "# Make and save predictions for test set\n",
    "test_predictions = predict(test_user, test_movie, U, V,mu, a, b)\n",
    "\n",
    "np.savetxt('test_predictions.txt', test_predictions)\n"
   ]
  },
  {
   "cell_type": "markdown",
   "metadata": {},
   "source": [
    "## Bonus Material: Inspect Predictions for Different Users\n",
    "\n",
    "After you have learned a good model, you may wish to interpret what it has learned. We can do this by looking at the most positive and most negative predictions for different users\n",
    "(or the movies that are bumped up or down from the baseline the most).\n",
    "\n",
    "Read and run the code below to see if you can understand the predictions. (Note: the predictions won't make sense until you have learned a good model!)"
   ]
  },
  {
   "cell_type": "code",
   "execution_count": null,
   "metadata": {
    "nbpresent": {
     "id": "9c3800be-12ec-43a7-b24a-8cf543daf831"
    }
   },
   "outputs": [],
   "source": [
    "all_movies = range(nMovies)\n",
    "\n",
    "def get_lowest(vals):\n",
    "    most_negative = np.argsort(vals)\n",
    "    return most_negative\n",
    "\n",
    "def get_highest(vals):\n",
    "    most_negative = np.argsort(vals)\n",
    "    most_positive = most_negative[::-1]\n",
    "    return most_positive\n",
    "\n",
    "k = 8\n",
    "all_users = range(nUsers)\n",
    "users_to_examine = all_users[0:5]\n",
    "\n",
    "for user in users_to_examine:\n",
    "\n",
    "    # Changes from baseline movie predictions for this user\n",
    "    delta = np.dot(V, U[user,:])  \n",
    "\n",
    "    print('*** User %d ***' % (user))\n",
    "    print('  Top movies')\n",
    "    for i in get_highest(delta)[0:k]:\n",
    "        print('    %+.4f  %s' % (delta[i], titles[i]))\n",
    "    print('')\n",
    "    \n",
    "    print('  Bottom movies')\n",
    "    for i in get_lowest(delta)[0:k]:\n",
    "        print('    %+.4f  %s' % (delta[i], titles[i]))\n",
    "    print('')\n"
   ]
  },
  {
   "cell_type": "markdown",
   "metadata": {
    "nbpresent": {
     "id": "496c99a6-522e-4637-aeda-aed1d27ea1a5"
    }
   },
   "source": [
    "## More Bonus Material: Interpretation of Weight Vectors as Features\n",
    "\n",
    "* So far we have described both $\\u_i$ and $\\v_j$ as *weight vectors* (since we don't have any features of movies and users). But, it is possible to interpret one or both of these vectors as **learned features**. \n",
    "\n",
    "* For example, the first learned feature may discover a preference for comedy vs. drama. In this case:\n",
    "    * The user feature value $u_{i1}$ should be high if the user likes comedies and low if the user likes dramas better.\n",
    "    * The movie feature value $v_{j1}$ should be high if the movie is a comedy and low if it is a drama. \n",
    "    \n",
    "* Similarly, feature 2 might describe whether a movie is geared toward kids or adults\n",
    "\n",
    "* In practice, the feature interpretations often find recognizable patterns but are not quite so clean to describe as the two examples above.\n",
    "\n",
    "Run the code below to examine the movies with the highest and lowest feature values for some of the features in your learned model."
   ]
  },
  {
   "cell_type": "code",
   "execution_count": null,
   "metadata": {
    "nbpresent": {
     "id": "8d3aa776-2611-48aa-b921-84ff8f528fdf"
    }
   },
   "outputs": [],
   "source": [
    "k = 5\n",
    "\n",
    "features_to_examine = np.arange(0,10)\n",
    "\n",
    "for feature in features_to_examine:\n",
    "\n",
    "    feature_vals = V[:,feature]\n",
    "    \n",
    "    print ('*** Feature %d ***' % (feature))\n",
    "    print ('  Movies with highest feature value')\n",
    "    for i in get_highest(feature_vals)[0:k]:\n",
    "        print ('    %+.4f  %s' % (feature_vals[i], titles[i]))\n",
    "    print ('')\n",
    "    \n",
    "    print ('  Movies with lowest feature value')\n",
    "    for i in get_lowest(feature_vals)[0:k]:\n",
    "        print ('    %+.4f  %s' % (feature_vals[i], titles[i]))\n",
    "    print ('')\n"
   ]
  },
  {
   "cell_type": "code",
   "execution_count": null,
   "metadata": {},
   "outputs": [],
   "source": []
  }
 ],
 "metadata": {
  "anaconda-cloud": {},
  "kernelspec": {
   "display_name": "Python 3",
   "language": "python",
   "name": "python3"
  },
  "language_info": {
   "codemirror_mode": {
    "name": "ipython",
    "version": 3
   },
   "file_extension": ".py",
   "mimetype": "text/x-python",
   "name": "python",
   "nbconvert_exporter": "python",
   "pygments_lexer": "ipython3",
   "version": "3.7.4"
  },
  "nbpresent": {
   "slides": {
    "05dbf5c6-7ed4-44ff-96f5-22c560339a47": {
     "id": "05dbf5c6-7ed4-44ff-96f5-22c560339a47",
     "prev": "f0743c29-abc3-44be-87d6-dd1d5510322d",
     "regions": {
      "358609c2-5fc6-4b0e-b715-31776580497e": {
       "attrs": {
        "height": 0.8,
        "width": 0.8,
        "x": 0.1,
        "y": 0.1
       },
       "content": {
        "cell": "48faf9e3-be4a-4ec4-888e-8ead4e2c67c5",
        "part": "whole"
       },
       "id": "358609c2-5fc6-4b0e-b715-31776580497e"
      }
     }
    },
    "1d9a4715-a031-4de3-8d97-d9e6066a461a": {
     "id": "1d9a4715-a031-4de3-8d97-d9e6066a461a",
     "prev": "31877341-3b03-4601-8c41-3eb99ba92ab1",
     "regions": {
      "614fb7ec-54e5-4de3-bea3-88bec20b51e5": {
       "attrs": {
        "height": 0.8,
        "width": 0.8,
        "x": 0.1,
        "y": 0.1
       },
       "content": {
        "cell": "597ff142-4663-4ddb-bc6f-7b71e1127cc0",
        "part": "whole"
       },
       "id": "614fb7ec-54e5-4de3-bea3-88bec20b51e5"
      }
     }
    },
    "2edca6cb-99a3-4cc0-ad20-0e8a9969f32c": {
     "id": "2edca6cb-99a3-4cc0-ad20-0e8a9969f32c",
     "prev": "d5c7ab89-c212-42a0-9613-2ecac8650d14",
     "regions": {
      "36d74c3a-a835-4358-8199-45dbc6d3cbef": {
       "attrs": {
        "height": 0.8,
        "width": 0.8,
        "x": 0.1,
        "y": 0.1
       },
       "content": {
        "cell": "c743c2d0-2dc4-4101-881c-01053255f632",
        "part": "whole"
       },
       "id": "36d74c3a-a835-4358-8199-45dbc6d3cbef"
      }
     }
    },
    "31877341-3b03-4601-8c41-3eb99ba92ab1": {
     "id": "31877341-3b03-4601-8c41-3eb99ba92ab1",
     "prev": "ffa8bbfc-6d3e-4673-b0dd-4d5721947b25",
     "regions": {
      "80e23835-4849-412a-8a53-23214ed34dd4": {
       "attrs": {
        "height": 0.8,
        "width": 0.8,
        "x": 0.1,
        "y": 0.1
       },
       "content": {
        "cell": "705be6bb-9f8a-4d0f-804b-3c69c1a65bc9",
        "part": "whole"
       },
       "id": "80e23835-4849-412a-8a53-23214ed34dd4"
      }
     }
    },
    "42565e08-7bed-422d-a675-eb7334ca0ab5": {
     "id": "42565e08-7bed-422d-a675-eb7334ca0ab5",
     "prev": null,
     "regions": {
      "156465b7-096d-45d2-8bcf-7b00a992a68b": {
       "attrs": {
        "height": 0.8,
        "width": 0.8,
        "x": 0.1,
        "y": 0.1
       },
       "content": {
        "cell": "bd219f5b-9c65-4402-94f0-5e1933cc040f",
        "part": "whole"
       },
       "id": "156465b7-096d-45d2-8bcf-7b00a992a68b"
      }
     }
    },
    "60b8b15e-5b75-4c66-906d-f1d5ac44c63b": {
     "id": "60b8b15e-5b75-4c66-906d-f1d5ac44c63b",
     "prev": "1d9a4715-a031-4de3-8d97-d9e6066a461a",
     "regions": {
      "66cbb4cc-e38d-43e5-bff5-56c0c06fb651": {
       "attrs": {
        "height": 0.8,
        "width": 0.8,
        "x": 0.1,
        "y": 0.1
       },
       "content": {
        "cell": "496c99a6-522e-4637-aeda-aed1d27ea1a5",
        "part": "whole"
       },
       "id": "66cbb4cc-e38d-43e5-bff5-56c0c06fb651"
      }
     }
    },
    "68f4c6fe-5f2d-452d-835c-e3b7454d6b47": {
     "id": "68f4c6fe-5f2d-452d-835c-e3b7454d6b47",
     "prev": "87e6cfef-5c0f-4d3c-bd82-2dd2612efc0c",
     "regions": {
      "a5b4dede-9c3b-41d5-a601-171e4252eec5": {
       "attrs": {
        "height": 0.8,
        "width": 0.8,
        "x": 0.1,
        "y": 0.1
       },
       "content": {
        "cell": "33f22eff-c565-4acc-bd8d-5d40678cb1e5",
        "part": "whole"
       },
       "id": "a5b4dede-9c3b-41d5-a601-171e4252eec5"
      }
     }
    },
    "6a7c9ec6-ca33-4dcc-b565-a2393a88d2dc": {
     "id": "6a7c9ec6-ca33-4dcc-b565-a2393a88d2dc",
     "prev": "42565e08-7bed-422d-a675-eb7334ca0ab5",
     "regions": {
      "43bdf1a6-2a38-4ea8-8452-9f4de7c7b5e7": {
       "attrs": {
        "height": 0.8,
        "width": 0.8,
        "x": 0.1,
        "y": 0.1
       },
       "content": {
        "cell": "417fa0e4-6c70-4b9f-a42c-876215db961d",
        "part": "whole"
       },
       "id": "43bdf1a6-2a38-4ea8-8452-9f4de7c7b5e7"
      }
     }
    },
    "87e6cfef-5c0f-4d3c-bd82-2dd2612efc0c": {
     "id": "87e6cfef-5c0f-4d3c-bd82-2dd2612efc0c",
     "prev": "ba5277be-2e8f-42a4-b899-2eb098d503e2",
     "regions": {
      "815ef0da-e3b6-488a-ac14-d837eecd3350": {
       "attrs": {
        "height": 0.8,
        "width": 0.8,
        "x": 0.1,
        "y": 0.1
       },
       "content": {
        "cell": "4d66fcd3-b9d3-49cf-a93c-0f4bdcfbf534",
        "part": "whole"
       },
       "id": "815ef0da-e3b6-488a-ac14-d837eecd3350"
      }
     }
    },
    "99838ed2-6577-4917-a98b-5b45dbaff5b7": {
     "id": "99838ed2-6577-4917-a98b-5b45dbaff5b7",
     "prev": "ca0eefa6-4215-4a13-96d3-ac4d59f36016",
     "regions": {
      "7fe37cdc-68ea-4184-ba0e-d0b1a2bc7253": {
       "attrs": {
        "height": 0.8,
        "width": 0.8,
        "x": 0.1,
        "y": 0.1
       },
       "content": {
        "cell": "2563258b-b1cb-45a3-baea-d0a9916e9f3a",
        "part": "whole"
       },
       "id": "7fe37cdc-68ea-4184-ba0e-d0b1a2bc7253"
      }
     }
    },
    "b75ebba2-4536-45b6-b14d-734821fc6db5": {
     "id": "b75ebba2-4536-45b6-b14d-734821fc6db5",
     "prev": "05dbf5c6-7ed4-44ff-96f5-22c560339a47",
     "regions": {
      "5b3123b6-b849-478a-b415-01dc4c7b8ddd": {
       "attrs": {
        "height": 0.8,
        "width": 0.8,
        "x": 0.1,
        "y": 0.1
       },
       "content": {
        "cell": "4e6383de-b56e-4b0c-9173-05600260e586",
        "part": "whole"
       },
       "id": "5b3123b6-b849-478a-b415-01dc4c7b8ddd"
      }
     }
    },
    "ba5277be-2e8f-42a4-b899-2eb098d503e2": {
     "id": "ba5277be-2e8f-42a4-b899-2eb098d503e2",
     "prev": "6a7c9ec6-ca33-4dcc-b565-a2393a88d2dc",
     "regions": {
      "6672c882-0f15-431e-94d2-a39fd1c95dec": {
       "attrs": {
        "height": 0.8,
        "width": 0.8,
        "x": 0.1,
        "y": 0.1
       },
       "content": {
        "cell": "7121a063-dcd8-4ef3-9b68-fdeb4690a1aa",
        "part": "whole"
       },
       "id": "6672c882-0f15-431e-94d2-a39fd1c95dec"
      }
     }
    },
    "c3f0d508-e7d2-45a1-9b29-91275df5c422": {
     "id": "c3f0d508-e7d2-45a1-9b29-91275df5c422",
     "prev": "60b8b15e-5b75-4c66-906d-f1d5ac44c63b",
     "regions": {
      "73d6c89e-93a2-47e7-ba8b-7dcd08353421": {
       "attrs": {
        "height": 0.8,
        "width": 0.8,
        "x": 0.1,
        "y": 0.1
       },
       "content": {
        "cell": "8d3aa776-2611-48aa-b921-84ff8f528fdf",
        "part": "whole"
       },
       "id": "73d6c89e-93a2-47e7-ba8b-7dcd08353421"
      }
     }
    },
    "ca0eefa6-4215-4a13-96d3-ac4d59f36016": {
     "id": "ca0eefa6-4215-4a13-96d3-ac4d59f36016",
     "prev": "f2a530ec-9ccc-485b-b61b-a99a778bbcba",
     "regions": {
      "89f3061f-b00c-48f3-8862-9285b3370f5f": {
       "attrs": {
        "height": 0.8,
        "width": 0.8,
        "x": 0.1,
        "y": 0.1
       },
       "content": {
        "cell": "46a5a100-4e08-43e9-a313-ea1a0f06d149",
        "part": "whole"
       },
       "id": "89f3061f-b00c-48f3-8862-9285b3370f5f"
      }
     }
    },
    "d5c7ab89-c212-42a0-9613-2ecac8650d14": {
     "id": "d5c7ab89-c212-42a0-9613-2ecac8650d14",
     "prev": "e1542729-bc97-495f-ac40-08ddb992f600",
     "regions": {
      "6b68aff0-cfbb-48a8-86fb-7a70448e8536": {
       "attrs": {
        "height": 0.8,
        "width": 0.8,
        "x": 0.1,
        "y": 0.1
       },
       "content": {
        "cell": "3f68ec3c-1530-4569-abd9-306b981a638b",
        "part": "whole"
       },
       "id": "6b68aff0-cfbb-48a8-86fb-7a70448e8536"
      }
     }
    },
    "e1542729-bc97-495f-ac40-08ddb992f600": {
     "id": "e1542729-bc97-495f-ac40-08ddb992f600",
     "prev": "68f4c6fe-5f2d-452d-835c-e3b7454d6b47",
     "regions": {
      "eb7f4a22-90e2-45ea-933b-4654f0cf5d0d": {
       "attrs": {
        "height": 0.8,
        "width": 0.8,
        "x": 0.1,
        "y": 0.1
       },
       "content": {
        "cell": "ad3301d3-5e9b-4f82-8180-9410aa5fd885",
        "part": "whole"
       },
       "id": "eb7f4a22-90e2-45ea-933b-4654f0cf5d0d"
      }
     }
    },
    "efe59041-9754-46cd-9a6f-a04eb76ccbbf": {
     "id": "efe59041-9754-46cd-9a6f-a04eb76ccbbf",
     "prev": "c3f0d508-e7d2-45a1-9b29-91275df5c422",
     "regions": {
      "7c0bb904-8702-44bd-b57b-75e61e7a5a80": {
       "attrs": {
        "height": 0.8,
        "width": 0.8,
        "x": 0.1,
        "y": 0.1
       },
       "content": {
        "cell": "75676a65-f58b-4f20-b4a0-1cf8f1156d71",
        "part": "whole"
       },
       "id": "7c0bb904-8702-44bd-b57b-75e61e7a5a80"
      }
     }
    },
    "f0743c29-abc3-44be-87d6-dd1d5510322d": {
     "id": "f0743c29-abc3-44be-87d6-dd1d5510322d",
     "prev": "99838ed2-6577-4917-a98b-5b45dbaff5b7",
     "regions": {
      "b058597c-5656-42c4-ae9e-74e567a11d40": {
       "attrs": {
        "height": 0.8,
        "width": 0.8,
        "x": 0.1,
        "y": 0.1
       },
       "content": {
        "cell": "d7cfbdcb-9c6c-4b9b-9d3e-c4ff15e0c74c",
        "part": "whole"
       },
       "id": "b058597c-5656-42c4-ae9e-74e567a11d40"
      }
     }
    },
    "f2a530ec-9ccc-485b-b61b-a99a778bbcba": {
     "id": "f2a530ec-9ccc-485b-b61b-a99a778bbcba",
     "prev": "2edca6cb-99a3-4cc0-ad20-0e8a9969f32c",
     "regions": {
      "3f7d423c-0b12-4667-886f-b8c5a8b455de": {
       "attrs": {
        "height": 0.8,
        "width": 0.8,
        "x": 0.1,
        "y": 0.1
       },
       "content": {
        "cell": "25aa92a1-20c9-4206-9133-ab31f96cb321",
        "part": "whole"
       },
       "id": "3f7d423c-0b12-4667-886f-b8c5a8b455de"
      }
     }
    },
    "ffa8bbfc-6d3e-4673-b0dd-4d5721947b25": {
     "id": "ffa8bbfc-6d3e-4673-b0dd-4d5721947b25",
     "prev": "b75ebba2-4536-45b6-b14d-734821fc6db5",
     "regions": {
      "66fe2eda-b793-476d-989b-7eeca28e1890": {
       "attrs": {
        "height": 0.8,
        "width": 0.8,
        "x": 0.1,
        "y": 0.1
       },
       "content": {
        "cell": "9c3800be-12ec-43a7-b24a-8cf543daf831",
        "part": "whole"
       },
       "id": "66fe2eda-b793-476d-989b-7eeca28e1890"
      }
     }
    }
   },
   "themes": {}
  }
 },
 "nbformat": 4,
 "nbformat_minor": 1
}
