{
 "cells": [
  {
   "cell_type": "markdown",
   "metadata": {
    "nbpresent": {
     "id": "bd219f5b-9c65-4402-94f0-5e1933cc040f"
    }
   },
   "source": [
    "$$\n",
    "\\newcommand{\\R}{\\mathbb{R}}\n",
    "\\renewcommand{\\b}{\\mathbf}\n",
    "\\newcommand{\\u}{\\mathbf{u}}\n",
    "\\newcommand{\\v}{\\mathbf{v}}\n",
    "$$\n",
    "\n",
    "\n",
    "# Movie Recommendations\n",
    "\n",
    "*Credits: this assignment adapted with permission from Dan Sheldon.*\n",
    "\n",
    "\n",
    "| user  | Moonlight | The Shape of Water   | Frozen | Moana     |\n",
    "|-------|-----------|----------------------|--------|-----------| \n",
    "|Alice  |   5       |          4           |    1   |           |\n",
    "|Bob    |           |          5           |        |    2      |\n",
    "|Carol  |           |                      |        |    5      |\n",
    "|David  |           |                      |    5   |    5      |\n",
    "|Eve    |   5       |          4           |        |           |\n",
    "\n",
    "\n",
    "What movie should I recommend to Bob?\n",
    "Will Carol like Frozen?\n",
    "\n",
    "**Goal**: Fill in entries of the \"rating matrix\""
   ]
  },
  {
   "cell_type": "markdown",
   "metadata": {
    "nbpresent": {
     "id": "417fa0e4-6c70-4b9f-a42c-876215db961d"
    }
   },
   "source": [
    "# Problem Setup\n",
    "\n",
    "Let's formalize this as a machine learning problem. To make it concrete, let's load some data and see what it looks like."
   ]
  },
  {
   "cell_type": "code",
   "execution_count": 1,
   "metadata": {
    "nbpresent": {
     "id": "7121a063-dcd8-4ef3-9b68-fdeb4690a1aa"
    }
   },
   "outputs": [
    {
     "name": "stderr",
     "output_type": "stream",
     "text": [
      "c:\\users\\caio brighenti\\appdata\\local\\programs\\python\\python37\\lib\\site-packages\\ipykernel_launcher.py:17: DeprecationWarning: np.asscalar(a) is deprecated since NumPy v1.16, use a.item() instead\n"
     ]
    },
    {
     "data": {
      "text/html": [
       "<div>\n",
       "<style scoped>\n",
       "    .dataframe tbody tr th:only-of-type {\n",
       "        vertical-align: middle;\n",
       "    }\n",
       "\n",
       "    .dataframe tbody tr th {\n",
       "        vertical-align: top;\n",
       "    }\n",
       "\n",
       "    .dataframe thead th {\n",
       "        text-align: right;\n",
       "    }\n",
       "</style>\n",
       "<table border=\"1\" class=\"dataframe\">\n",
       "  <thead>\n",
       "    <tr style=\"text-align: right;\">\n",
       "      <th></th>\n",
       "      <th>user_id</th>\n",
       "      <th>movie_id</th>\n",
       "      <th>rating</th>\n",
       "      <th>title</th>\n",
       "    </tr>\n",
       "  </thead>\n",
       "  <tbody>\n",
       "    <tr>\n",
       "      <th>2070</th>\n",
       "      <td>0</td>\n",
       "      <td>242</td>\n",
       "      <td>1</td>\n",
       "      <td>Jungle2Jungle (1997)</td>\n",
       "    </tr>\n",
       "    <tr>\n",
       "      <th>2175</th>\n",
       "      <td>0</td>\n",
       "      <td>73</td>\n",
       "      <td>1</td>\n",
       "      <td>Faster Pussycat! Kill! Kill! (1965)</td>\n",
       "    </tr>\n",
       "    <tr>\n",
       "      <th>984</th>\n",
       "      <td>0</td>\n",
       "      <td>101</td>\n",
       "      <td>2</td>\n",
       "      <td>Aristocats, The (1970)</td>\n",
       "    </tr>\n",
       "    <tr>\n",
       "      <th>2400</th>\n",
       "      <td>0</td>\n",
       "      <td>236</td>\n",
       "      <td>2</td>\n",
       "      <td>Jerry Maguire (1996)</td>\n",
       "    </tr>\n",
       "    <tr>\n",
       "      <th>4364</th>\n",
       "      <td>0</td>\n",
       "      <td>179</td>\n",
       "      <td>3</td>\n",
       "      <td>Apocalypse Now (1979)</td>\n",
       "    </tr>\n",
       "  </tbody>\n",
       "</table>\n",
       "</div>"
      ],
      "text/plain": [
       "      user_id  movie_id  rating                                title\n",
       "2070        0       242       1                 Jungle2Jungle (1997)\n",
       "2175        0        73       1  Faster Pussycat! Kill! Kill! (1965)\n",
       "984         0       101       2               Aristocats, The (1970)\n",
       "2400        0       236       2                 Jerry Maguire (1996)\n",
       "4364        0       179       3                Apocalypse Now (1979)"
      ]
     },
     "execution_count": 1,
     "metadata": {},
     "output_type": "execute_result"
    }
   ],
   "source": [
    "%load_ext autoreload\n",
    "%autoreload 2\n",
    "%matplotlib inline\n",
    "import numpy as np\n",
    "import matplotlib.pyplot as plt\n",
    "import pandas as pd\n",
    "from IPython.display import display\n",
    "import scipy.io\n",
    "\n",
    "# Load train and test data\n",
    "data = scipy.io.loadmat('movies.mat')\n",
    "\n",
    "titles = [t[0] for t in data['movieData']['title'][0,0].ravel()]\n",
    "\n",
    "for x,y in data.items():\n",
    "    if isinstance(y, (np.ndarray)) and len(y)==1:\n",
    "        data[x] = np.asscalar(y)\n",
    "    elif isinstance(y, (np.ndarray)):\n",
    "        data[x] = y.ravel()\n",
    "\n",
    "nUsers    = data['nUsers']\n",
    "nMovies   = data['nMovies']\n",
    "userData  = data['userData']\n",
    "movieData = data['movieData']\n",
    "\n",
    "train_user   = data['train_user']-1   # matlab 1-index correction\n",
    "train_movie  = data['train_movie']-1  # matlab 1-index correction\n",
    "train_rating = data['train_rating']\n",
    "\n",
    "valid_user   = data['valid_user']-1   # matlab 1-index correction\n",
    "valid_movie  = data['valid_movie']-1  # matlab 1-index correction\n",
    "valid_rating = data['valid_rating']\n",
    "\n",
    "test_user    = data['test_user']-1    # matlab 1-index correction\n",
    "test_movie   = data['test_movie']-1   # matlab 1-index correction\n",
    "\n",
    "\n",
    "# Create a pandas data frame for training data to facilitate\n",
    "# visualization and inspection\n",
    "\n",
    "train_title = [titles[i] for i in train_movie]\n",
    "\n",
    "train_data = pd.DataFrame(data = {'user_id' : train_user, \n",
    "                                  'movie_id' : train_movie,\n",
    "                                  'rating' : train_rating,\n",
    "                                  'title': train_title}, \n",
    "                         columns = ['user_id', 'movie_id', 'rating', 'title'])\n",
    "\n",
    "# subsample to 5000 rows to more easily see a small sampling of ratings for each user\n",
    "train_data = train_data[:5000]\n",
    "\n",
    "# sort by user\n",
    "train_data = train_data.sort_values(by=['user_id', 'rating'])\n",
    "\n",
    "train_data.head() # display first few rows"
   ]
  },
  {
   "cell_type": "markdown",
   "metadata": {
    "nbpresent": {
     "id": "4d66fcd3-b9d3-49cf-a93c-0f4bdcfbf534"
    }
   },
   "source": [
    "## Training Data\n",
    "As we can see, the training data presents observed entries of the \"ratings\" matrix as list of triples $(i_k, j_k, r_k)$ where\n",
    "\n",
    "* $i_k$ is the user index of $k$th rating\n",
    "* $j_k$ is the movie index of $k$th rating\n",
    "* $r_k$ is the value of $k$th rating (1-5)\n",
    "\n",
    "In our code we will store the entries of the tuples in three separate 1d arrays of the same length, so the $k$th rating is represented by the values ``train_user[k]``, ``train_movie[k]``, and ``train_rating[k]``."
   ]
  },
  {
   "cell_type": "markdown",
   "metadata": {
    "nbpresent": {
     "id": "33f22eff-c565-4acc-bd8d-5d40678cb1e5"
    }
   },
   "source": [
    "## Problem Formulation\n",
    "\n",
    "Now, let's formulate the problem mathematically. Suppose there are $m$ users and $n$ movies. \n",
    "Let $R$ be the $m \\times n$ \"rating\" matrix, where $R_{ij}$ is the (possibly unknown) rating for user $i$ on movie $j$. \n",
    "\n",
    "Our training data gives us some of the entries of the rating matrix. Our goal\n",
    "is to learn a parametric model to predict entries that we don't observe.\n",
    "\n",
    "#### But Where are the Features?\n",
    "\n",
    "What sort of predictive model can we use for entries of $R$? \n",
    "\n",
    "In past learning problems we had *feature vectors* and we learned *weight vectors* to make predictions (using dot products). \n",
    "\n",
    "Now we do not have feature vectors. What should we do?"
   ]
  },
  {
   "cell_type": "markdown",
   "metadata": {
    "nbpresent": {
     "id": "ad3301d3-5e9b-4f82-8180-9410aa5fd885"
    }
   },
   "source": [
    "## Matrix Factorization Model\n",
    "\n",
    "Our solution is to **learn weight vectors for both users and movies**. \n",
    "\n",
    "Let $\\u_i \\in \\R^d$ be the weight vector for use $i$ and $\\v_j \\in \\R^d$ be the weight vector for movie $j$. Then we can predict the rating for user $i$ on movie $j$ as:\n",
    "\n",
    "$$\n",
    "H_{ij} =\\u_i^T \\v_j\n",
    "$$\n",
    "\n",
    "Our goal is to learn weight vectors for every user and movie so that $R_{ij} \\approx H_{ij}$ for those entries of the rating matrix that we observe.\n",
    "\n",
    "**Problem statement**: \n",
    "Given observed entries of the rating matrix presented as triples $(i_k, j_k, r_k)$ for $k=1, \\ldots, n_{\\text{train}}$, find weight vectors $\\mathbf{u_i}$ for each user $i$ and $\\mathbf{v}_j$ for each movie $j$ such that:\n",
    "$$\n",
    "r_k \\approx \\mathbf{u_{i_k}}^T \\mathbf{v_{j_k}}, \\quad k=1, 2, \\ldots, n_{\\text{train}}\n",
    "$$"
   ]
  },
  {
   "cell_type": "markdown",
   "metadata": {
    "nbpresent": {
     "id": "3f68ec3c-1530-4569-abd9-306b981a638b"
    }
   },
   "source": [
    "## Why is This Called Matrix Factorization?\n",
    "\n",
    "* Place the user weight vectors $\\u_i$ into the rows of a matrix\n",
    "  $U$ and the movie feature vectors $\\v_j$ into\n",
    "  the rows of a matrix $V$\n",
    "\n",
    "    $$ \n",
    "    \\newcommand{\\line}{-}\n",
    "    U =\n",
    "        \\begin{bmatrix}\n",
    "            \\line \\u_1^T \\line \\\\\n",
    "            \\line \\u_2^T \\line \\\\\n",
    "            \\ldots \\\\\n",
    "            \\line \\u_m^T \\line \\\\\n",
    "        \\end{bmatrix} \\in \\R^{m \\times d}\n",
    "    \\qquad\n",
    "    V =\n",
    "        \\begin{bmatrix}\n",
    "            \\line \\v_1^T \\line \\\\\n",
    "            \\line \\v_2^T \\line \\\\\n",
    "            \\ldots \\\\\n",
    "            \\line \\v_n^T \\line \\\\\n",
    "        \\end{bmatrix} \\in \\R^{n \\times d}\n",
    "    $$\n",
    "\n",
    "* Consider the product $U V^T$:\n",
    "\n",
    "    $$\n",
    "    \\boxed{\n",
    "        \\begin{array}{c}\n",
    "            \\\\\n",
    "            U \\\\\n",
    "            \\\\\n",
    "        \\end{array}\n",
    "        }\n",
    "    \\boxed{\n",
    "        \\begin{array}{c}\n",
    "            \\ \\ \\ V^T \\ \\ \\ \n",
    "        \\end{array}\n",
    "        }\n",
    "    $$\n",
    "  \n",
    "* It is easy to check that $(i,j)$ entry of $UV^T$ is equal to $\\u_i^T\n",
    "  \\v_j$, which is our prediction for the $(i,j)$ entry of $R$\n",
    "\n",
    "* In other words, our model is that $R \\approx U V^T$ (a **factorization**\n",
    "  of $R$)\n",
    "\n",
    "* We choose $U$ and $V$ to get good predictions for those entries of\n",
    "  $R$ that we can observe. As long as we don't overfit, this gives us\n",
    "  power to generalize to entries we don't observe\n",
    "  \n",
    "* The \"hidden dimension\" $d$ (the length of each weight vector) is a hyperparameter\n",
    "  that must be tuned with hold-out data.\n",
    "  "
   ]
  },
  {
   "cell_type": "markdown",
   "metadata": {
    "nbpresent": {
     "id": "c743c2d0-2dc4-4101-881c-01053255f632"
    }
   },
   "source": [
    "## Your Job: Solve the Learning Problem \n",
    "\n",
    "* Formulate a squared error cost function corresponding to the problem statement above.\n",
    "* Add regularization for *every* user weight vector $\\u_i$ and movie weight vector $\\v_j$ to get a regularized cost function\n",
    "* Write down the partial derivatives of your regularized cost function with\n",
    "  respect to the entries of $\\u_i$ and $\\v_j$\n",
    "* Plug the partial derivatives into stochastic gradient descent (SGD)\n",
    "  and write down the update rule\n",
    "* Implement SGD\n",
    "* Tune parameters (e.g., dimension $d$, regularization parameter) get good performance on the validation set\n",
    "\n",
    "\n",
    "Your final notebook should include some analysis (preferably with some figures/statistics reported).  What model did you develop?  What process did you use to fit it?  What are the final parameters?  What intermediate results did you generate that led you to this final parameterization? "
   ]
  },
  {
   "cell_type": "markdown",
   "metadata": {
    "nbpresent": {
     "id": "25aa92a1-20c9-4206-9133-ab31f96cb321"
    }
   },
   "source": [
    "* Submit predictions on test set. \n",
    "* Evaluation: root-mean squared error (RMSE) on test set\n",
    "\n",
    "    $$ \\text{RMSE} = \\sqrt{\\frac{1}{n_{\\text{test}}}\\sum_{(i,j) \\in \\text{test set}} (H_{ij} - R_{ij})^2}$$\n",
    "\n",
    "* A *portion* of your grade will be based on test set performance using the following guidelines:\n",
    "\n",
    "| RMSE   |  grade  |\n",
    "|--------|---------|\n",
    "|>  1.0  |  60%    |\n",
    "|<= 1.0  |  80%    |\n",
    "|<= 0.97 |  90%    |\n",
    "|<= 0.95 |   95%   |\n",
    "|<= 0.94 |  100%   ||\n"
   ]
  },
  {
   "cell_type": "markdown",
   "metadata": {
    "nbpresent": {
     "id": "597ff142-4663-4ddb-bc6f-7b71e1127cc0"
    }
   },
   "source": [
    "## (Review on your own) Model Extension: Add Biases\n",
    "\n",
    "To get really great performance, consider this extended model for a predicted rating:\n",
    "\n",
    "$$\n",
    "H_{ij} = \\mu + a_i + b_j + \\u_i^T \\v_j\n",
    "$$\n",
    "\n",
    "This adds several terms to the prediction for user $i$ on movie $j$:\n",
    "\n",
    "* $\\mu$ is an overall baseline rating. For example, the overall average rating of all users\n",
    "  on all movies may be $\\mu = 3.3$\n",
    "  \n",
    "* $a_i$ is a user-specific adjustment or \"bias\". For example, perhaps Alice\n",
    "  really loves movies and gives them all high ratings. Then, her bias \n",
    "  might be $a_i = +0.4$. But Bob is hard to please, so his bias is $a_i = -0.7$.\n",
    "  \n",
    "* $b_j$ is a movie-specific bias. For example, perhaps Inside Out is universally\n",
    "  loved, so its bias is $b_j = +0.7$. A really bad movie would have a negative bias.\n",
    "\n",
    "The set of parameters of this model includes:\n",
    "\n",
    "* $\\mu$ \n",
    "* $a_i$, $i=1,\\ldots, m$\n",
    "* $b_j$, $j=1,\\ldots, n$\n",
    "* $\\u_i \\in \\R^d$, $i=1,\\ldots, m$\n",
    "* $\\v_j \\in \\R^d$, $j=1,\\ldots, n$\n",
    "\n",
    "To learn these parameters, derive partial derivatives of the regularized\n",
    "cost function with respect to *all* of the above parameters, and update\n",
    "them all within your stochastic gradient descent loop."
   ]
  },
  {
   "cell_type": "markdown",
   "metadata": {},
   "source": [
    "## Further Reading\n",
    "[Matrix Factorization Techniques for Recommender\n",
    "Systems](https://datajobs.com/data-science-repo/Recommender-Systems-[Netflix].pdf)\n",
    "by Yehuda Koren, Robert Bell and Chris Volinsky\n",
    "\n",
    "* Authors were on the winning team of Netflix prize\n",
    "\n",
    "* Paper includes algorithms---but beware different notation"
   ]
  },
  {
   "cell_type": "markdown",
   "metadata": {},
   "source": [
    "## Step 0: Familiarize Yourself With Variables\n",
    "\n",
    "Here are the variables we populated while loading the data above --- make sure you run that cell first."
   ]
  },
  {
   "cell_type": "code",
   "execution_count": 2,
   "metadata": {
    "collapsed": true
   },
   "outputs": [],
   "source": [
    "# 1) Metadata\n",
    "#     \n",
    "#     nUsers     # of users\n",
    "#     nMovies    # of movies\n",
    "#     titles     list of movie titles\n",
    "#\n",
    "#\n",
    "# 2) Training data (60K ratings). This consists of three 1d arrays, \n",
    "#    each of length 60K:\n",
    "#\n",
    "#      train_user, train_movie, train_rating\n",
    "#\n",
    "#    The entries specify the ratings:\n",
    "#   \n",
    "#      train_user[k]    user index  of kth rating\n",
    "#      train_movie[k]   movie index of kth rating\n",
    "#      train_rating[k]  value (1-5) of kth rating\n",
    "#\n",
    "# 2) Validation data (20K ratings). Three vectors of length 20K:\n",
    "#\n",
    "#      valid_user, valid_movie, valid_rating\n",
    "#   \n",
    "#    Use this to evaluate your model and tune parameters.\n",
    "#    \n",
    "# 3) Test set (20K user-movie pairs without ratings):\n",
    "#\n",
    "#      test_user, test_movie\n",
    "#\n",
    "#    You will create predictions for these pairs and submit them for \n",
    "#    grading."
   ]
  },
  {
   "cell_type": "markdown",
   "metadata": {},
   "source": [
    "## Step 1: Look at the Prediction Method\n",
    "\n",
    "To make things concrete, first take a look at the prediction method below. This is just a stub for now that returns the same value ``mu`` for every prediction. Later you will update this to make predictions given the weight vectors and biases."
   ]
  },
  {
   "cell_type": "code",
   "execution_count": 3,
   "metadata": {
    "collapsed": true,
    "nbpresent": {
     "id": "46a5a100-4e08-43e9-a313-ea1a0f06d149"
    }
   },
   "outputs": [],
   "source": [
    "def rmse(h, r):\n",
    "    resid = h - r\n",
    "    cost = np.sqrt(np.mean(resid**2))\n",
    "    return cost\n",
    "\n",
    "def predict(user, movie, U, V, mu, a, b):\n",
    "    '''\n",
    "    PREDICT Make predictions for user/movie pairs\n",
    "    Inputs: \n",
    "      model parameters\n",
    "      user               vector of users\n",
    "      movie              vector of movies\n",
    "    \n",
    "    Output:\n",
    "      predictions        vector of predictions\n",
    "    '''    \n",
    "    user_weights = U[user,:]\n",
    "    movie_weights = V[movie,:]\n",
    "    user_biases = a[user]\n",
    "    movie_biases = b[movie]\n",
    "    predictions = np.sum(np.multiply(user_weights,movie_weights),axis=1)\n",
    "    predictions = predictions + mu + user_biases + movie_biases\n",
    "    return predictions"
   ]
  },
  {
   "cell_type": "markdown",
   "metadata": {},
   "source": [
    "## Step 2: Learning and Validation\n",
    "\n",
    "Write code here to do the learning and validation. Stubs are provided. Make sure you derive the partial derivatives on paper before you try to code them. "
   ]
  },
  {
   "cell_type": "markdown",
   "metadata": {},
   "source": [
    "### Cross Validation for Parameter Selection\n",
    "\n",
    "The matrix factorization approach has three parameters than can be tuned to improve performance. These are the hidden dimension of the weight vectors $d$, the gradient descent step size, and the regularization parameter $\\lambda$. Given that the best regularization parameter depends on the degree of overfitting hapepning, and increasing the dimension $d$ is likely to increase the risk of overfitting, these two parameters must be tuned in unison. To do this, I ran SGD for 50 iterations on a variety of pairs of $d$ and $\\lambda$ and found the combination that resulted in the best validation error.\n",
    "\n",
    "My implementation of matrix factorization through SGD uses the enhanced model with user and movie biases, as well as a global average bias term. The formal cost function for this model is as follows\n",
    "\n",
    "$$ Q = \\sum_{ij} [(r_{ij} - u_{i}v_{j} - \\mu - a_i - b_j) + \\lambda(||u_{i}||^2 + ||v_{j}||^2 + a^2 + b^2 )]$$\n",
    "\n",
    "On each iteration of SGD, the matrix of observations is shuffled, then each rating is used one-by-one to update the user weights, movie weights, user bias, and movie bias. These updates are calculated as follows:\n",
    "\n",
    "$ u_i = u_i + \\eta(e \\cdot v_j - \\lambda \\cdot u_i) $ \n",
    "\n",
    "$ v_j = v_j + \\eta(e \\cdot u_i - \\lambda \\cdot v_j) $\n",
    "\n",
    "$ a_i = \\eta(e - \\lambda \\cdot a_i))$\n",
    "\n",
    "$ b_j = \\eta(e - \\lambda \\cdot b_j))$\n",
    "\n",
    "Where $e$ is the error $e_{ij} = r_{ij} - h_{ij}$, where $h_{ij}$ is the prediction for user $i$ and movie $j$.\n",
    "\n",
    "The results of this cross validation are shown below in a surface plot of $d$, $lambda$, and the vaidation error. The best combination of these two parameters is stored in a variable and printed to the console."
   ]
  },
  {
   "cell_type": "code",
   "execution_count": 4,
   "metadata": {},
   "outputs": [
    {
     "name": "stderr",
     "output_type": "stream",
     "text": [
      "100%|██████████████████████████████████████████████████████████████████████████████████████████████████████████████████████████████████████████████████████████████████████████████████████████████████████████| 10/10 [1:33:57<00:00, 563.77s/it]\n"
     ]
    }
   ],
   "source": [
    "import mf\n",
    "from mf import error_function, sgd_minimal\n",
    "from tqdm import tqdm\n",
    "############################################\n",
    "# Initialize parameters\n",
    "############################################\n",
    "\n",
    "mu = np.mean(train_rating)\n",
    "a  = np.zeros(nUsers)\n",
    "b  = np.zeros(nMovies)\n",
    "num_iters = 50\n",
    "\n",
    "############################################\n",
    "# Validate d and lambda\n",
    "############################################\n",
    "# init vectors of possible dimensions and reg. parameters\n",
    "d_vector = np.arange(1,100,step=10)\n",
    "num_d = len(d_vector)\n",
    "lambda_vector = np.arange(0,1,step=0.1)\n",
    "num_lambda = len(lambda_vector)\n",
    "params = np.zeros(shape=(num_d*num_lambda,4))\n",
    "# loop through each combination\n",
    "row = 0\n",
    "for i in tqdm(range(num_d)):\n",
    "    for j in range(num_lambda):\n",
    "        # pull out params and init U,V\n",
    "        d = d_vector[i]\n",
    "        U  = np.random.randn(nUsers, d)  *.01 # User weights\n",
    "        V  = np.random.randn(nMovies, d) *.01 # Movie features\n",
    "        lambda_reg = lambda_vector[j]\n",
    "        # train model\n",
    "        U,V,a,b = sgd_minimal(num_iters,train_user,train_movie,train_rating,.01,lambda_reg,U,V,mu,a,b)\n",
    "        # calc errors\n",
    "        train_predictions = predict(train_user, train_movie, U, V, mu, a, b)\n",
    "        valid_predictions = predict(valid_user, valid_movie, U, V, mu, a, b)\n",
    "\n",
    "        train_rmse = rmse(train_predictions, train_rating)\n",
    "        valid_rmse = rmse(valid_predictions, valid_rating)\n",
    "        # store in params matrix\n",
    "        params[row,:] = [d,lambda_reg,train_rmse,valid_rmse]\n",
    "        row = row + 1\n",
    "    "
   ]
  },
  {
   "cell_type": "code",
   "execution_count": 3,
   "metadata": {},
   "outputs": [
    {
     "ename": "NameError",
     "evalue": "name 'params' is not defined",
     "output_type": "error",
     "traceback": [
      "\u001b[1;31m---------------------------------------------------------------------------\u001b[0m",
      "\u001b[1;31mNameError\u001b[0m                                 Traceback (most recent call last)",
      "\u001b[1;32m<ipython-input-3-1386ee0e4b6b>\u001b[0m in \u001b[0;36m<module>\u001b[1;34m()\u001b[0m\n\u001b[0;32m      4\u001b[0m \u001b[0mfig\u001b[0m \u001b[1;33m=\u001b[0m \u001b[0mplt\u001b[0m\u001b[1;33m.\u001b[0m\u001b[0mfigure\u001b[0m\u001b[1;33m(\u001b[0m\u001b[1;33m)\u001b[0m\u001b[1;33m\u001b[0m\u001b[0m\n\u001b[0;32m      5\u001b[0m \u001b[0max\u001b[0m \u001b[1;33m=\u001b[0m \u001b[0mfig\u001b[0m\u001b[1;33m.\u001b[0m\u001b[0madd_subplot\u001b[0m\u001b[1;33m(\u001b[0m\u001b[1;36m111\u001b[0m\u001b[1;33m,\u001b[0m \u001b[0mprojection\u001b[0m\u001b[1;33m=\u001b[0m\u001b[1;34m'3d'\u001b[0m\u001b[1;33m)\u001b[0m\u001b[1;33m\u001b[0m\u001b[0m\n\u001b[1;32m----> 6\u001b[1;33m \u001b[0max\u001b[0m\u001b[1;33m.\u001b[0m\u001b[0mplot_trisurf\u001b[0m\u001b[1;33m(\u001b[0m\u001b[0mparams\u001b[0m\u001b[1;33m[\u001b[0m\u001b[1;33m:\u001b[0m\u001b[1;33m,\u001b[0m\u001b[1;36m0\u001b[0m\u001b[1;33m]\u001b[0m\u001b[1;33m,\u001b[0m\u001b[0mparams\u001b[0m\u001b[1;33m[\u001b[0m\u001b[1;33m:\u001b[0m\u001b[1;33m,\u001b[0m\u001b[1;36m1\u001b[0m\u001b[1;33m]\u001b[0m\u001b[1;33m,\u001b[0m\u001b[0mparams\u001b[0m\u001b[1;33m[\u001b[0m\u001b[1;33m:\u001b[0m\u001b[1;33m,\u001b[0m\u001b[1;36m3\u001b[0m\u001b[1;33m]\u001b[0m\u001b[1;33m)\u001b[0m\u001b[1;33m\u001b[0m\u001b[0m\n\u001b[0m\u001b[0;32m      7\u001b[0m \u001b[0mplt\u001b[0m\u001b[1;33m.\u001b[0m\u001b[0mtitle\u001b[0m\u001b[1;33m(\u001b[0m\u001b[1;34m\"Validation RMSE for varying d and lambda \\n Trained on 50 iterations of SGD\"\u001b[0m\u001b[1;33m)\u001b[0m\u001b[1;33m\u001b[0m\u001b[0m\n\u001b[0;32m      8\u001b[0m \u001b[0mplt\u001b[0m\u001b[1;33m.\u001b[0m\u001b[0mxlabel\u001b[0m\u001b[1;33m(\u001b[0m\u001b[1;34m\"d\"\u001b[0m\u001b[1;33m)\u001b[0m\u001b[1;33m\u001b[0m\u001b[0m\n",
      "\u001b[1;31mNameError\u001b[0m: name 'params' is not defined"
     ]
    }
   ],
   "source": [
    "# surface plot\n",
    "import matplotlib.pyplot as plt\n",
    "from mpl_toolkits.mplot3d import Axes3D\n",
    "fig = plt.figure()\n",
    "ax = fig.add_subplot(111, projection='3d')\n",
    "ax.plot_trisurf(params[:,0],params[:,1],params[:,3])\n",
    "plt.title(\"Validation RMSE for varying d and lambda \\n Trained on 50 iterations of SGD\")\n",
    "plt.xlabel(\"d\")\n",
    "plt.ylabel(\"lambda\")\n",
    "plt.zlabel(\"valid RMSE\")\n",
    "\n",
    "# find optimal parameters\n",
    "index_min = np.argmin(params[:,3])\n",
    "d_best = int(params[index_min,0])\n",
    "lambda_best = params[index_min,1]\n",
    "print('best parameters: hidden dimension=%.0f, regularization parameter=%.1f' % (d_best, lambda_best))\n"
   ]
  },
  {
   "cell_type": "markdown",
   "metadata": {},
   "source": [
    "The above cross validation shows the ideal combination of parameters is $d=91$ and $\\lambda = 0.1$. \n",
    "\n",
    "Next, I performed cross validation to select the ideal step size. I did this by training models on a series of step sizes and selecting the one with the best cross validation error. I experimented with varying the number of iterations for this cross validation step, but results were unchanged when I increased the number of iterations to 100. \n",
    "\n",
    "The train and validation error for each step size is shown in the barplot below, and the best step size is stored in a variable and printed to the console. I found that the ideal step size was 0.01."
   ]
  },
  {
   "cell_type": "code",
   "execution_count": 8,
   "metadata": {},
   "outputs": [
    {
     "name": "stderr",
     "output_type": "stream",
     "text": [
      "100%|███████████████████████████████████████████████████████████████████████████████████████████████████████████████████████████████████████████████████████████████████████████████████████████████████████████████| 6/6 [05:45<00:00, 57.56s/it]\n"
     ]
    }
   ],
   "source": [
    "import mf\n",
    "from mf import error_function, sgd_minimal\n",
    "from tqdm import tqdm\n",
    "############################################\n",
    "# Initialize parameters\n",
    "############################################\n",
    "mu = np.mean(train_rating)\n",
    "a  = np.zeros(nUsers)\n",
    "b  = np.zeros(nMovies)\n",
    "num_iters = 50\n",
    "\n",
    "############################################\n",
    "# Validate step size\n",
    "############################################\n",
    "# init vectors of possible step sizes\n",
    "step_sizes = [0.1,0.01,0.001,0.0001,0.00001,0.000001]\n",
    "num_steps = len(step_sizes)\n",
    "params_steps = np.zeros(shape=(num_steps,3))\n",
    "# loop through each step size\n",
    "for i in tqdm(range(num_steps)):\n",
    "    # pull out params and init U,V\n",
    "    U  = np.random.randn(nUsers, d_best)  *.01 # User weights\n",
    "    V  = np.random.randn(nMovies, d_best) *.01 # Movie features\n",
    "    step_size = step_sizes[i]\n",
    "    # train model\n",
    "    U,V,a,b = sgd_minimal(num_iters,train_user,train_movie,train_rating,step_size,lambda_best,U,V,mu,a,b)\n",
    "    # calc errors\n",
    "    train_predictions = predict(train_user, train_movie, U, V, mu, a, b)\n",
    "    valid_predictions = predict(valid_user, valid_movie, U, V, mu, a, b)\n",
    "\n",
    "    train_rmse = rmse(train_predictions, train_rating)\n",
    "    valid_rmse = rmse(valid_predictions, valid_rating)\n",
    "    # store in params matrix\n",
    "    params_steps[i,:] = [step_size,train_rmse,valid_rmse]"
   ]
  },
  {
   "cell_type": "code",
   "execution_count": 4,
   "metadata": {},
   "outputs": [
    {
     "ename": "NameError",
     "evalue": "name 'params_steps' is not defined",
     "output_type": "error",
     "traceback": [
      "\u001b[1;31m---------------------------------------------------------------------------\u001b[0m",
      "\u001b[1;31mNameError\u001b[0m                                 Traceback (most recent call last)",
      "\u001b[1;32m<ipython-input-4-b06bea9ba725>\u001b[0m in \u001b[0;36m<module>\u001b[1;34m()\u001b[0m\n\u001b[0;32m      4\u001b[0m \u001b[1;33m\u001b[0m\u001b[0m\n\u001b[0;32m      5\u001b[0m \u001b[1;31m# set height of bar\u001b[0m\u001b[1;33m\u001b[0m\u001b[1;33m\u001b[0m\u001b[0m\n\u001b[1;32m----> 6\u001b[1;33m \u001b[0mbars1\u001b[0m \u001b[1;33m=\u001b[0m \u001b[0mparams_steps\u001b[0m\u001b[1;33m[\u001b[0m\u001b[1;33m:\u001b[0m\u001b[1;33m,\u001b[0m\u001b[1;36m1\u001b[0m\u001b[1;33m]\u001b[0m\u001b[1;33m\u001b[0m\u001b[0m\n\u001b[0m\u001b[0;32m      7\u001b[0m \u001b[0mbars2\u001b[0m \u001b[1;33m=\u001b[0m \u001b[0mparams_steps\u001b[0m\u001b[1;33m[\u001b[0m\u001b[1;33m:\u001b[0m\u001b[1;33m,\u001b[0m\u001b[1;36m2\u001b[0m\u001b[1;33m]\u001b[0m\u001b[1;33m\u001b[0m\u001b[0m\n\u001b[0;32m      8\u001b[0m \u001b[1;33m\u001b[0m\u001b[0m\n",
      "\u001b[1;31mNameError\u001b[0m: name 'params_steps' is not defined"
     ]
    }
   ],
   "source": [
    "### plot code adapted from https://python-graph-gallery.com/11-grouped-barplot/\n",
    "# set width of bar\n",
    "barWidth = 0.25\n",
    " \n",
    "# set height of bar\n",
    "bars1 = params_steps[:,1]\n",
    "bars2 = params_steps[:,2]\n",
    " \n",
    "# Set position of bar on X axis\n",
    "r1 = np.arange(len(bars1))\n",
    "r2 = [x + barWidth for x in r1]\n",
    " \n",
    "# Make the plot\n",
    "plt.bar(r1, bars1,width=barWidth, edgecolor='white', label='train')\n",
    "plt.bar(r2, bars2, width=barWidth, edgecolor='white', label='valid')\n",
    " \n",
    "# Add xticks on the middle of the group bars\n",
    "plt.xlabel('step size', fontweight='bold')\n",
    "plt.ylabel('RMSE', fontweight='bold')\n",
    "plt.title('RMSE for varying step sizes \\n Models trained on 50 iterations of SGD')\n",
    "plt.xticks([r + barWidth for r in range(len(bars1))], params_steps[:,0])\n",
    "\n",
    "# Add min lines\n",
    "min_rmse_train = min(params_steps[:,1])\n",
    "min_rmse_valid = min(params_steps[:,2])\n",
    "plt.axhline(y=min_rmse_train,color=\"#1f77b4\")\n",
    "plt.axhline(y=min_rmse_valid,color=\"#ff7f0e\")\n",
    " \n",
    "# Create legend & Show graphic\n",
    "plt.legend(loc = 'lower right')\n",
    "plt.show()\n",
    "\n",
    "\n",
    "best_step_size = step_sizes[np.argmin(params_steps[:,2])]\n",
    "print(\"Best step size is: \" + str(best_step_size))"
   ]
  },
  {
   "cell_type": "markdown",
   "metadata": {},
   "source": [
    "### Final Model Fitting\n",
    "\n",
    "Using the cross validated parameters of $d=91$, $\\lambda = 0.1$ and a step size of $0.01$, I trained a final model using 100 iterations. In order to identify whether overfitting was ocurring, I stored the train and validation RMSE after each iteration and plotted them below. This plot suggested some overfitting was occuring, as the train RMSE continued to decrease while the validation RMSE stabilized or increased slightly.\n",
    "\n",
    "In order to avoid overtraining the model, I used validation RMSE history to identify at which iteration the validation error was minimized, then retrained my model using only that many iterations. This does not necessarily guarantee the exact same validation RMSE as in the original plotted model, given that the training is a stochastic process, but it will certainly ameloriate overfitting.\n",
    "\n",
    "The final train and validation errors are printed to the console after the final model is fit."
   ]
  },
  {
   "cell_type": "code",
   "execution_count": 12,
   "metadata": {
    "nbpresent": {
     "id": "d7cfbdcb-9c6c-4b9b-9d3e-c4ff15e0c74c"
    }
   },
   "outputs": [
    {
     "name": "stderr",
     "output_type": "stream",
     "text": [
      "100%|███████████████████████████████████████████████████████████████████████████████████████████████████████████████████████████████████████████████████████████████████████████████████████████████████████████| 100/100 [02:13<00:00,  1.33s/it]\n"
     ]
    },
    {
     "name": "stdout",
     "output_type": "stream",
     "text": [
      "after training: train_rmse=0.730, valid_rmse=0.914\n"
     ]
    },
    {
     "data": {
      "image/png": "[encoded data removed]",
      "text/plain": [
       "<Figure size 432x288 with 1 Axes>"
      ]
     },
     "metadata": {
      "needs_background": "light"
     },
     "output_type": "display_data"
    }
   ],
   "source": [
    "# import mf\n",
    "from mf import error_function, sgd, sgd_minimal\n",
    "############################################\n",
    "# Tunable parameters (you will add more)\n",
    "############################################\n",
    "\n",
    "nDims = d_best\n",
    "\n",
    "############################################\n",
    "# Initialize parameters\n",
    "############################################\n",
    "\n",
    "mu = np.mean(train_rating)\n",
    "a  = np.zeros(nUsers)\n",
    "b  = np.zeros(nMovies)\n",
    "U  = np.random.randn(nUsers, nDims)  *.01 # User weights\n",
    "V  = np.random.randn(nMovies, nDims) *.01 # Movie features\n",
    "\n",
    "############################################\n",
    "# Training and validation\n",
    "############################################\n",
    "\n",
    "# TODO: write code to train model and evaluate performance on validation set\n",
    "# \n",
    "#  You are encouraged to define functions in mf.py and import them here.\n",
    "#\n",
    "#  predict() is a stub that predicts the overall mean for all user-movie\n",
    "#  pairs. Update it to take more parameters and make real predictions.\n",
    "\n",
    "\n",
    "### own code\n",
    "train_predictions = predict(train_user, train_movie, U, V, mu, a, b)\n",
    "valid_predictions = predict(valid_user, valid_movie, U, V, mu, a, b)\n",
    "\n",
    "train_rmse = rmse(train_predictions, train_rating)\n",
    "valid_rmse = rmse(valid_predictions, valid_rating)\n",
    "\n",
    "U,V,a,b,train_rmse_hist,valid_rmse_hist = sgd(100,train_user,train_movie,train_rating,best_step_size,lambda_best,U,V,mu,a,b,valid_user, valid_movie,valid_rating)\n",
    "\n",
    "train_predictions = predict(train_user, train_movie, U, V, mu, a, b)\n",
    "valid_predictions = predict(valid_user, valid_movie, U, V, mu, a, b)\n",
    "\n",
    "train_rmse = rmse(train_predictions, train_rating)\n",
    "valid_rmse = rmse(valid_predictions, valid_rating)\n",
    "\n",
    "## error history\n",
    "min_valid = np.argmin(valid_rmse_hist)\n",
    "plt.plot(train_rmse_hist)\n",
    "plt.plot(valid_rmse_hist)\n",
    "plt.title(\"RMSE over iterations of gradient descent \\n d = %.0f, lambda = %.1f, step size = %.2f\" % (d_best,lambda_best,best_step_size))\n",
    "plt.legend(['Train','Validation'])\n",
    "plt.xlabel(\"Iterations\")\n",
    "plt.ylabel(\"RMSE\")\n",
    "plt.axvline(x=min_valid)\n",
    "\n",
    "# FINAL TRAINING\n",
    "# reset weights\n",
    "a  = np.zeros(nUsers)\n",
    "b  = np.zeros(nMovies)\n",
    "U  = np.random.randn(nUsers, nDims)  *.01 # User weights\n",
    "V  = np.random.randn(nMovies, nDims) *.01 # Movie features\n",
    "\n",
    "# train with optimal parameters\n",
    "U,V,a,b = sgd_minimal(min_valid,train_user,train_movie,train_rating,.01,lambda_best,U,V,mu,a,b)\n",
    "train_predictions = predict(train_user, train_movie, U, V, mu, a, b)\n",
    "valid_predictions = predict(valid_user, valid_movie, U, V, mu, a, b)\n",
    "train_rmse = rmse(train_predictions, train_rating)\n",
    "valid_rmse = rmse(valid_predictions, valid_rating)\n",
    "print('after training: train_rmse=%.3f, valid_rmse=%.3f' % (train_rmse, valid_rmse))\n",
    "\n",
    "\n",
    "############################################\n",
    "# Testing\n",
    "############################################\n",
    "\n",
    "# Make and save predictions for test set\n",
    "test_predictions = predict(test_user, test_movie, U, V,mu, a, b)\n",
    "\n",
    "np.savetxt('test_predictions.txt', test_predictions)\n"
   ]
  },
  {
   "cell_type": "markdown",
   "metadata": {},
   "source": [
    "## Bonus Material: Inspect Predictions for Different Users\n",
    "\n",
    "After you have learned a good model, you may wish to interpret what it has learned. We can do this by looking at the most positive and most negative predictions for different users\n",
    "(or the movies that are bumped up or down from the baseline the most).\n",
    "\n",
    "Read and run the code below to see if you can understand the predictions. (Note: the predictions won't make sense until you have learned a good model!)"
   ]
  },
  {
   "cell_type": "code",
   "execution_count": 13,
   "metadata": {
    "nbpresent": {
     "id": "9c3800be-12ec-43a7-b24a-8cf543daf831"
    }
   },
   "outputs": [
    {
     "name": "stdout",
     "output_type": "stream",
     "text": [
      "*** User 0 ***\n",
      "  Top movies\n",
      "    +0.6263  Monty Python's Life of Brian (1979)\n",
      "    +0.5918  City of Lost Children, The (1995)\n",
      "    +0.5660  Swingers (1996)\n",
      "    +0.5500  Cook the Thief His Wife & Her Lover, The (1989)\n",
      "    +0.5453  Sleeper (1973)\n",
      "    +0.5449  Big Night (1996)\n",
      "    +0.5433  Legends of the Fall (1994)\n",
      "    +0.5423  Three Colors: Blue (1993)\n",
      "\n",
      "  Bottom movies\n",
      "    -0.8412  Homeward Bound: The Incredible Journey (1993)\n",
      "    -0.7825  Kull the Conqueror (1997)\n",
      "    -0.7599  Jungle2Jungle (1997)\n",
      "    -0.7259  George of the Jungle (1997)\n",
      "    -0.7115  Dirty Dancing (1987)\n",
      "    -0.6559  First Knight (1995)\n",
      "    -0.6538  My Best Friend's Wedding (1997)\n",
      "    -0.6424  McHale's Navy (1997)\n",
      "\n",
      "*** User 1 ***\n",
      "  Top movies\n",
      "    +0.4301  Old Man and the Sea, The (1958)\n",
      "    +0.3511  English Patient, The (1996)\n",
      "    +0.3483  Amistad (1997)\n",
      "    +0.3313  Kiss Me, Guido (1997)\n",
      "    +0.3194  Love Jones (1997)\n",
      "    +0.3188  Boogie Nights (1997)\n",
      "    +0.3160  Welcome to the Dollhouse (1995)\n",
      "    +0.3119  Graduate, The (1967)\n",
      "\n",
      "  Bottom movies\n",
      "    -0.5535  Liar Liar (1997)\n",
      "    -0.3826  George of the Jungle (1997)\n",
      "    -0.3773  Saint, The (1997)\n",
      "    -0.3632  Jungle2Jungle (1997)\n",
      "    -0.3534  Volcano (1997)\n",
      "    -0.3411  Down Periscope (1996)\n",
      "    -0.3328  Angels in the Outfield (1994)\n",
      "    -0.3273  Congo (1995)\n",
      "\n",
      "*** User 2 ***\n",
      "  Top movies\n",
      "    +1.0688  Boogie Nights (1997)\n",
      "    +0.8321  Paradise Lost: The Child Murders at Robin Hood Hills (1996)\n",
      "    +0.8071  Wag the Dog (1997)\n",
      "    +0.7837  Mother (1996)\n",
      "    +0.7655  Jackie Brown (1997)\n",
      "    +0.5493  Kiss Me, Guido (1997)\n",
      "    +0.5105  Apostle, The (1997)\n",
      "    +0.5022  Keys to Tulsa (1997)\n",
      "\n",
      "  Bottom movies\n",
      "    -0.7499  I Know What You Did Last Summer (1997)\n",
      "    -0.7282  G.I. Jane (1997)\n",
      "    -0.6820  Scream 2 (1997)\n",
      "    -0.6694  Rainmaker, The (1997)\n",
      "    -0.6566  Devil's Own, The (1997)\n",
      "    -0.5879  Kiss the Girls (1997)\n",
      "    -0.5735  Nixon (1995)\n",
      "    -0.5546  House of Yes, The (1997)\n",
      "\n",
      "*** User 3 ***\n",
      "  Top movies\n",
      "    +0.5265  8 1/2 (1963)\n",
      "    +0.5135  Trainspotting (1996)\n",
      "    +0.5032  Boogie Nights (1997)\n",
      "    +0.4995  Clockwork Orange, A (1971)\n",
      "    +0.4973  To Die For (1995)\n",
      "    +0.4783  Lost Highway (1997)\n",
      "    +0.4722  Ghost in the Shell (Kokaku kidotai) (1995)\n",
      "    +0.4519  Blue in the Face (1995)\n",
      "\n",
      "  Bottom movies\n",
      "    -0.5673  Client, The (1994)\n",
      "    -0.5421  Firm, The (1993)\n",
      "    -0.5367  American President, The (1995)\n",
      "    -0.5209  City Slickers II: The Legend of Curly's Gold (1994)\n",
      "    -0.5099  Kull the Conqueror (1997)\n",
      "    -0.4791  Another Stakeout (1993)\n",
      "    -0.4692  Young Guns (1988)\n",
      "    -0.4432  Striking Distance (1993)\n",
      "\n",
      "*** User 4 ***\n",
      "  Top movies\n",
      "    +0.9444  Chasing Amy (1997)\n",
      "    +0.9321  Forbidden Planet (1956)\n",
      "    +0.8539  Night of the Living Dead (1968)\n",
      "    +0.8122  8 1/2 (1963)\n",
      "    +0.8040  Duck Soup (1933)\n",
      "    +0.7831  Mars Attacks! (1996)\n",
      "    +0.7545  Fear of a Black Hat (1993)\n",
      "    +0.7357  Clockwork Orange, A (1971)\n",
      "\n",
      "  Bottom movies\n",
      "    -1.1909  Grease (1978)\n",
      "    -0.9497  Bastard Out of Carolina (1996)\n",
      "    -0.8617  American President, The (1995)\n",
      "    -0.8460  Bridges of Madison County, The (1995)\n",
      "    -0.8335  Dirty Dancing (1987)\n",
      "    -0.8043  Sound of Music, The (1965)\n",
      "    -0.8003  On Golden Pond (1981)\n",
      "    -0.7706  Black Beauty (1994)\n",
      "\n"
     ]
    }
   ],
   "source": [
    "all_movies = range(nMovies)\n",
    "\n",
    "def get_lowest(vals):\n",
    "    most_negative = np.argsort(vals)\n",
    "    return most_negative\n",
    "\n",
    "def get_highest(vals):\n",
    "    most_negative = np.argsort(vals)\n",
    "    most_positive = most_negative[::-1]\n",
    "    return most_positive\n",
    "\n",
    "k = 8\n",
    "all_users = range(nUsers)\n",
    "users_to_examine = all_users[0:5]\n",
    "\n",
    "for user in users_to_examine:\n",
    "\n",
    "    # Changes from baseline movie predictions for this user\n",
    "    delta = np.dot(V, U[user,:])  \n",
    "\n",
    "    print('*** User %d ***' % (user))\n",
    "    print('  Top movies')\n",
    "    for i in get_highest(delta)[0:k]:\n",
    "        print('    %+.4f  %s' % (delta[i], titles[i]))\n",
    "    print('')\n",
    "    \n",
    "    print('  Bottom movies')\n",
    "    for i in get_lowest(delta)[0:k]:\n",
    "        print('    %+.4f  %s' % (delta[i], titles[i]))\n",
    "    print('')\n"
   ]
  },
  {
   "cell_type": "markdown",
   "metadata": {
    "nbpresent": {
     "id": "496c99a6-522e-4637-aeda-aed1d27ea1a5"
    }
   },
   "source": [
    "## More Bonus Material: Interpretation of Weight Vectors as Features\n",
    "\n",
    "* So far we have described both $\\u_i$ and $\\v_j$ as *weight vectors* (since we don't have any features of movies and users). But, it is possible to interpret one or both of these vectors as **learned features**. \n",
    "\n",
    "* For example, the first learned feature may discover a preference for comedy vs. drama. In this case:\n",
    "    * The user feature value $u_{i1}$ should be high if the user likes comedies and low if the user likes dramas better.\n",
    "    * The movie feature value $v_{j1}$ should be high if the movie is a comedy and low if it is a drama. \n",
    "    \n",
    "* Similarly, feature 2 might describe whether a movie is geared toward kids or adults\n",
    "\n",
    "* In practice, the feature interpretations often find recognizable patterns but are not quite so clean to describe as the two examples above.\n",
    "\n",
    "Run the code below to examine the movies with the highest and lowest feature values for some of the features in your learned model."
   ]
  },
  {
   "cell_type": "code",
   "execution_count": 14,
   "metadata": {
    "nbpresent": {
     "id": "8d3aa776-2611-48aa-b921-84ff8f528fdf"
    }
   },
   "outputs": [
    {
     "name": "stdout",
     "output_type": "stream",
     "text": [
      "*** Feature 0 ***\n",
      "  Movies with highest feature value\n",
      "    +0.4599  I Know What You Did Last Summer (1997)\n",
      "    +0.3487  Lost Highway (1997)\n",
      "    +0.3428  Beavis and Butt-head Do America (1996)\n",
      "    +0.2823  Army of Darkness (1993)\n",
      "    +0.2692  Soul Food (1997)\n",
      "\n",
      "  Movies with lowest feature value\n",
      "    -0.3162  Piano, The (1993)\n",
      "    -0.3098  Natural Born Killers (1994)\n",
      "    -0.2776  Steel (1997)\n",
      "    -0.2733  Matilda (1996)\n",
      "    -0.2634  That Darn Cat! (1997)\n",
      "\n",
      "*** Feature 1 ***\n",
      "  Movies with highest feature value\n",
      "    +0.2772  Tin Cup (1996)\n",
      "    +0.2513  Die Hard: With a Vengeance (1995)\n",
      "    +0.2473  Star Trek: The Motion Picture (1979)\n",
      "    +0.2352  Client, The (1994)\n",
      "    +0.2309  Star Trek III: The Search for Spock (1984)\n",
      "\n",
      "  Movies with lowest feature value\n",
      "    -0.2603  Young Poisoner's Handbook, The (1995)\n",
      "    -0.2442  Boogie Nights (1997)\n",
      "    -0.2286  Trainspotting (1996)\n",
      "    -0.2271  George of the Jungle (1997)\n",
      "    -0.2218  Celluloid Closet, The (1995)\n",
      "\n",
      "*** Feature 2 ***\n",
      "  Movies with highest feature value\n",
      "    +0.2822  Paradise Lost: The Child Murders at Robin Hood Hills (1996)\n",
      "    +0.2492  Interview with the Vampire (1994)\n",
      "    +0.2471  Bad Taste (1987)\n",
      "    +0.2447  Winter Guest, The (1997)\n",
      "    +0.2426  Natural Born Killers (1994)\n",
      "\n",
      "  Movies with lowest feature value\n",
      "    -0.3574  Matilda (1996)\n",
      "    -0.2734  Steel (1997)\n",
      "    -0.2660  Man Who Knew Too Little, The (1997)\n",
      "    -0.2587  Star Trek VI: The Undiscovered Country (1991)\n",
      "    -0.2540  So I Married an Axe Murderer (1993)\n",
      "\n",
      "*** Feature 3 ***\n",
      "  Movies with highest feature value\n",
      "    +0.3375  Fantasia (1940)\n",
      "    +0.3253  Kingpin (1996)\n",
      "    +0.2763  Jungle2Jungle (1997)\n",
      "    +0.2689  Beavis and Butt-head Do America (1996)\n",
      "    +0.2667  Black Sheep (1996)\n",
      "\n",
      "  Movies with lowest feature value\n",
      "    -0.2865  Piano, The (1993)\n",
      "    -0.2444  Tales from the Hood (1995)\n",
      "    -0.2253  Stand by Me (1986)\n",
      "    -0.2212  Clockwork Orange, A (1971)\n",
      "    -0.2175  Angels and Insects (1995)\n",
      "\n",
      "*** Feature 4 ***\n",
      "  Movies with highest feature value\n",
      "    +0.4082  Happy Gilmore (1996)\n",
      "    +0.3619  Starship Troopers (1997)\n",
      "    +0.3613  Dumb & Dumber (1994)\n",
      "    +0.3240  Kingpin (1996)\n",
      "    +0.3035  Seven (Se7en) (1995)\n",
      "\n",
      "  Movies with lowest feature value\n",
      "    -0.2733  Mystery Science Theater 3000: The Movie (1996)\n",
      "    -0.2273  City of Lost Children, The (1995)\n",
      "    -0.2270  Mother (1996)\n",
      "    -0.2206  Cold Comfort Farm (1995)\n",
      "    -0.2050  Kids in the Hall: Brain Candy (1996)\n",
      "\n",
      "*** Feature 5 ***\n",
      "  Movies with highest feature value\n",
      "    +0.2561  Chasing Amy (1997)\n",
      "    +0.2509  Fifth Element, The (1997)\n",
      "    +0.2253  Nosferatu (Nosferatu, eine Symphonie des Grauens) (1922)\n",
      "    +0.2110  Forrest Gump (1994)\n",
      "    +0.2105  Mortal Kombat (1995)\n",
      "\n",
      "  Movies with lowest feature value\n",
      "    -0.2675  Breakfast at Tiffany's (1961)\n",
      "    -0.2670  How to Make an American Quilt (1995)\n",
      "    -0.2654  Grease (1978)\n",
      "    -0.2614  So I Married an Axe Murderer (1993)\n",
      "    -0.2377  Sound of Music, The (1965)\n",
      "\n",
      "*** Feature 6 ***\n",
      "  Movies with highest feature value\n",
      "    +0.2984  Forbidden Planet (1956)\n",
      "    +0.2913  Army of Darkness (1993)\n",
      "    +0.2858  Die Hard 2 (1990)\n",
      "    +0.2839  Mallrats (1995)\n",
      "    +0.2692  Princess Bride, The (1987)\n",
      "\n",
      "  Movies with lowest feature value\n",
      "    -0.3080  Pinocchio (1940)\n",
      "    -0.3066  Birdcage, The (1996)\n",
      "    -0.2773  Free Willy (1993)\n",
      "    -0.2750  How to Make an American Quilt (1995)\n",
      "    -0.2584  Assassins (1995)\n",
      "\n",
      "*** Feature 7 ***\n",
      "  Movies with highest feature value\n",
      "    +0.3554  Godfather, The (1972)\n",
      "    +0.3137  Supercop (1992)\n",
      "    +0.2667  Empire Strikes Back, The (1980)\n",
      "    +0.2558  Die Hard (1988)\n",
      "    +0.2427  Return of the Jedi (1983)\n",
      "\n",
      "  Movies with lowest feature value\n",
      "    -0.3464  Steel (1997)\n",
      "    -0.3186  George of the Jungle (1997)\n",
      "    -0.2929  Midnight in the Garden of Good and Evil (1997)\n",
      "    -0.2708  Mr. Holland's Opus (1995)\n",
      "    -0.2707  Home for the Holidays (1995)\n",
      "\n",
      "*** Feature 8 ***\n",
      "  Movies with highest feature value\n",
      "    +0.3641  Another Stakeout (1993)\n",
      "    +0.3458  Ace Ventura: Pet Detective (1994)\n",
      "    +0.3388  City Slickers II: The Legend of Curly's Gold (1994)\n",
      "    +0.3276  How to Make an American Quilt (1995)\n",
      "    +0.3058  Grease (1978)\n",
      "\n",
      "  Movies with lowest feature value\n",
      "    -0.2818  Event Horizon (1997)\n",
      "    -0.2712  Scream 2 (1997)\n",
      "    -0.2587  Aristocats, The (1970)\n",
      "    -0.2471  Diabolique (1996)\n",
      "    -0.2454  Independence Day (ID4) (1996)\n",
      "\n",
      "*** Feature 9 ***\n",
      "  Movies with highest feature value\n",
      "    +0.2614  Jingle All the Way (1996)\n",
      "    +0.2485  My Best Friend's Wedding (1997)\n",
      "    +0.2461  Beavis and Butt-head Do America (1996)\n",
      "    +0.2378  From Dusk Till Dawn (1996)\n",
      "    +0.2250  Adventures of Priscilla, Queen of the Desert, The (1994)\n",
      "\n",
      "  Movies with lowest feature value\n",
      "    -0.2644  Birdcage, The (1996)\n",
      "    -0.2494  Mighty Aphrodite (1995)\n",
      "    -0.2390  Everyone Says I Love You (1996)\n",
      "    -0.2308  Lost Highway (1997)\n",
      "    -0.2154  Benny & Joon (1993)\n",
      "\n"
     ]
    }
   ],
   "source": [
    "k = 5\n",
    "\n",
    "features_to_examine = np.arange(0,10)\n",
    "\n",
    "for feature in features_to_examine:\n",
    "\n",
    "    feature_vals = V[:,feature]\n",
    "    \n",
    "    print ('*** Feature %d ***' % (feature))\n",
    "    print ('  Movies with highest feature value')\n",
    "    for i in get_highest(feature_vals)[0:k]:\n",
    "        print ('    %+.4f  %s' % (feature_vals[i], titles[i]))\n",
    "    print ('')\n",
    "    \n",
    "    print ('  Movies with lowest feature value')\n",
    "    for i in get_lowest(feature_vals)[0:k]:\n",
    "        print ('    %+.4f  %s' % (feature_vals[i], titles[i]))\n",
    "    print ('')\n"
   ]
  },
  {
   "cell_type": "code",
   "execution_count": null,
   "metadata": {
    "collapsed": true
   },
   "outputs": [],
   "source": []
  }
 ],
 "metadata": {
  "anaconda-cloud": {},
  "kernelspec": {
   "display_name": "Python 3",
   "language": "python",
   "name": "python3"
  },
  "language_info": {
   "codemirror_mode": {
    "name": "ipython",
    "version": 3
   },
   "file_extension": ".py",
   "mimetype": "text/x-python",
   "name": "python",
   "nbconvert_exporter": "python",
   "pygments_lexer": "ipython3",
   "version": "3.6.3"
  },
  "nbpresent": {
   "slides": {
    "05dbf5c6-7ed4-44ff-96f5-22c560339a47": {
     "id": "05dbf5c6-7ed4-44ff-96f5-22c560339a47",
     "prev": "f0743c29-abc3-44be-87d6-dd1d5510322d",
     "regions": {
      "358609c2-5fc6-4b0e-b715-31776580497e": {
       "attrs": {
        "height": 0.8,
        "width": 0.8,
        "x": 0.1,
        "y": 0.1
       },
       "content": {
        "cell": "48faf9e3-be4a-4ec4-888e-8ead4e2c67c5",
        "part": "whole"
       },
       "id": "358609c2-5fc6-4b0e-b715-31776580497e"
      }
     }
    },
    "1d9a4715-a031-4de3-8d97-d9e6066a461a": {
     "id": "1d9a4715-a031-4de3-8d97-d9e6066a461a",
     "prev": "31877341-3b03-4601-8c41-3eb99ba92ab1",
     "regions": {
      "614fb7ec-54e5-4de3-bea3-88bec20b51e5": {
       "attrs": {
        "height": 0.8,
        "width": 0.8,
        "x": 0.1,
        "y": 0.1
       },
       "content": {
        "cell": "597ff142-4663-4ddb-bc6f-7b71e1127cc0",
        "part": "whole"
       },
       "id": "614fb7ec-54e5-4de3-bea3-88bec20b51e5"
      }
     }
    },
    "2edca6cb-99a3-4cc0-ad20-0e8a9969f32c": {
     "id": "2edca6cb-99a3-4cc0-ad20-0e8a9969f32c",
     "prev": "d5c7ab89-c212-42a0-9613-2ecac8650d14",
     "regions": {
      "36d74c3a-a835-4358-8199-45dbc6d3cbef": {
       "attrs": {
        "height": 0.8,
        "width": 0.8,
        "x": 0.1,
        "y": 0.1
       },
       "content": {
        "cell": "c743c2d0-2dc4-4101-881c-01053255f632",
        "part": "whole"
       },
       "id": "36d74c3a-a835-4358-8199-45dbc6d3cbef"
      }
     }
    },
    "31877341-3b03-4601-8c41-3eb99ba92ab1": {
     "id": "31877341-3b03-4601-8c41-3eb99ba92ab1",
     "prev": "ffa8bbfc-6d3e-4673-b0dd-4d5721947b25",
     "regions": {
      "80e23835-4849-412a-8a53-23214ed34dd4": {
       "attrs": {
        "height": 0.8,
        "width": 0.8,
        "x": 0.1,
        "y": 0.1
       },
       "content": {
        "cell": "705be6bb-9f8a-4d0f-804b-3c69c1a65bc9",
        "part": "whole"
       },
       "id": "80e23835-4849-412a-8a53-23214ed34dd4"
      }
     }
    },
    "42565e08-7bed-422d-a675-eb7334ca0ab5": {
     "id": "42565e08-7bed-422d-a675-eb7334ca0ab5",
     "prev": null,
     "regions": {
      "156465b7-096d-45d2-8bcf-7b00a992a68b": {
       "attrs": {
        "height": 0.8,
        "width": 0.8,
        "x": 0.1,
        "y": 0.1
       },
       "content": {
        "cell": "bd219f5b-9c65-4402-94f0-5e1933cc040f",
        "part": "whole"
       },
       "id": "156465b7-096d-45d2-8bcf-7b00a992a68b"
      }
     }
    },
    "60b8b15e-5b75-4c66-906d-f1d5ac44c63b": {
     "id": "60b8b15e-5b75-4c66-906d-f1d5ac44c63b",
     "prev": "1d9a4715-a031-4de3-8d97-d9e6066a461a",
     "regions": {
      "66cbb4cc-e38d-43e5-bff5-56c0c06fb651": {
       "attrs": {
        "height": 0.8,
        "width": 0.8,
        "x": 0.1,
        "y": 0.1
       },
       "content": {
        "cell": "496c99a6-522e-4637-aeda-aed1d27ea1a5",
        "part": "whole"
       },
       "id": "66cbb4cc-e38d-43e5-bff5-56c0c06fb651"
      }
     }
    },
    "68f4c6fe-5f2d-452d-835c-e3b7454d6b47": {
     "id": "68f4c6fe-5f2d-452d-835c-e3b7454d6b47",
     "prev": "87e6cfef-5c0f-4d3c-bd82-2dd2612efc0c",
     "regions": {
      "a5b4dede-9c3b-41d5-a601-171e4252eec5": {
       "attrs": {
        "height": 0.8,
        "width": 0.8,
        "x": 0.1,
        "y": 0.1
       },
       "content": {
        "cell": "33f22eff-c565-4acc-bd8d-5d40678cb1e5",
        "part": "whole"
       },
       "id": "a5b4dede-9c3b-41d5-a601-171e4252eec5"
      }
     }
    },
    "6a7c9ec6-ca33-4dcc-b565-a2393a88d2dc": {
     "id": "6a7c9ec6-ca33-4dcc-b565-a2393a88d2dc",
     "prev": "42565e08-7bed-422d-a675-eb7334ca0ab5",
     "regions": {
      "43bdf1a6-2a38-4ea8-8452-9f4de7c7b5e7": {
       "attrs": {
        "height": 0.8,
        "width": 0.8,
        "x": 0.1,
        "y": 0.1
       },
       "content": {
        "cell": "417fa0e4-6c70-4b9f-a42c-876215db961d",
        "part": "whole"
       },
       "id": "43bdf1a6-2a38-4ea8-8452-9f4de7c7b5e7"
      }
     }
    },
    "87e6cfef-5c0f-4d3c-bd82-2dd2612efc0c": {
     "id": "87e6cfef-5c0f-4d3c-bd82-2dd2612efc0c",
     "prev": "ba5277be-2e8f-42a4-b899-2eb098d503e2",
     "regions": {
      "815ef0da-e3b6-488a-ac14-d837eecd3350": {
       "attrs": {
        "height": 0.8,
        "width": 0.8,
        "x": 0.1,
        "y": 0.1
       },
       "content": {
        "cell": "4d66fcd3-b9d3-49cf-a93c-0f4bdcfbf534",
        "part": "whole"
       },
       "id": "815ef0da-e3b6-488a-ac14-d837eecd3350"
      }
     }
    },
    "99838ed2-6577-4917-a98b-5b45dbaff5b7": {
     "id": "99838ed2-6577-4917-a98b-5b45dbaff5b7",
     "prev": "ca0eefa6-4215-4a13-96d3-ac4d59f36016",
     "regions": {
      "7fe37cdc-68ea-4184-ba0e-d0b1a2bc7253": {
       "attrs": {
        "height": 0.8,
        "width": 0.8,
        "x": 0.1,
        "y": 0.1
       },
       "content": {
        "cell": "2563258b-b1cb-45a3-baea-d0a9916e9f3a",
        "part": "whole"
       },
       "id": "7fe37cdc-68ea-4184-ba0e-d0b1a2bc7253"
      }
     }
    },
    "b75ebba2-4536-45b6-b14d-734821fc6db5": {
     "id": "b75ebba2-4536-45b6-b14d-734821fc6db5",
     "prev": "05dbf5c6-7ed4-44ff-96f5-22c560339a47",
     "regions": {
      "5b3123b6-b849-478a-b415-01dc4c7b8ddd": {
       "attrs": {
        "height": 0.8,
        "width": 0.8,
        "x": 0.1,
        "y": 0.1
       },
       "content": {
        "cell": "4e6383de-b56e-4b0c-9173-05600260e586",
        "part": "whole"
       },
       "id": "5b3123b6-b849-478a-b415-01dc4c7b8ddd"
      }
     }
    },
    "ba5277be-2e8f-42a4-b899-2eb098d503e2": {
     "id": "ba5277be-2e8f-42a4-b899-2eb098d503e2",
     "prev": "6a7c9ec6-ca33-4dcc-b565-a2393a88d2dc",
     "regions": {
      "6672c882-0f15-431e-94d2-a39fd1c95dec": {
       "attrs": {
        "height": 0.8,
        "width": 0.8,
        "x": 0.1,
        "y": 0.1
       },
       "content": {
        "cell": "7121a063-dcd8-4ef3-9b68-fdeb4690a1aa",
        "part": "whole"
       },
       "id": "6672c882-0f15-431e-94d2-a39fd1c95dec"
      }
     }
    },
    "c3f0d508-e7d2-45a1-9b29-91275df5c422": {
     "id": "c3f0d508-e7d2-45a1-9b29-91275df5c422",
     "prev": "60b8b15e-5b75-4c66-906d-f1d5ac44c63b",
     "regions": {
      "73d6c89e-93a2-47e7-ba8b-7dcd08353421": {
       "attrs": {
        "height": 0.8,
        "width": 0.8,
        "x": 0.1,
        "y": 0.1
       },
       "content": {
        "cell": "8d3aa776-2611-48aa-b921-84ff8f528fdf",
        "part": "whole"
       },
       "id": "73d6c89e-93a2-47e7-ba8b-7dcd08353421"
      }
     }
    },
    "ca0eefa6-4215-4a13-96d3-ac4d59f36016": {
     "id": "ca0eefa6-4215-4a13-96d3-ac4d59f36016",
     "prev": "f2a530ec-9ccc-485b-b61b-a99a778bbcba",
     "regions": {
      "89f3061f-b00c-48f3-8862-9285b3370f5f": {
       "attrs": {
        "height": 0.8,
        "width": 0.8,
        "x": 0.1,
        "y": 0.1
       },
       "content": {
        "cell": "46a5a100-4e08-43e9-a313-ea1a0f06d149",
        "part": "whole"
       },
       "id": "89f3061f-b00c-48f3-8862-9285b3370f5f"
      }
     }
    },
    "d5c7ab89-c212-42a0-9613-2ecac8650d14": {
     "id": "d5c7ab89-c212-42a0-9613-2ecac8650d14",
     "prev": "e1542729-bc97-495f-ac40-08ddb992f600",
     "regions": {
      "6b68aff0-cfbb-48a8-86fb-7a70448e8536": {
       "attrs": {
        "height": 0.8,
        "width": 0.8,
        "x": 0.1,
        "y": 0.1
       },
       "content": {
        "cell": "3f68ec3c-1530-4569-abd9-306b981a638b",
        "part": "whole"
       },
       "id": "6b68aff0-cfbb-48a8-86fb-7a70448e8536"
      }
     }
    },
    "e1542729-bc97-495f-ac40-08ddb992f600": {
     "id": "e1542729-bc97-495f-ac40-08ddb992f600",
     "prev": "68f4c6fe-5f2d-452d-835c-e3b7454d6b47",
     "regions": {
      "eb7f4a22-90e2-45ea-933b-4654f0cf5d0d": {
       "attrs": {
        "height": 0.8,
        "width": 0.8,
        "x": 0.1,
        "y": 0.1
       },
       "content": {
        "cell": "ad3301d3-5e9b-4f82-8180-9410aa5fd885",
        "part": "whole"
       },
       "id": "eb7f4a22-90e2-45ea-933b-4654f0cf5d0d"
      }
     }
    },
    "efe59041-9754-46cd-9a6f-a04eb76ccbbf": {
     "id": "efe59041-9754-46cd-9a6f-a04eb76ccbbf",
     "prev": "c3f0d508-e7d2-45a1-9b29-91275df5c422",
     "regions": {
      "7c0bb904-8702-44bd-b57b-75e61e7a5a80": {
       "attrs": {
        "height": 0.8,
        "width": 0.8,
        "x": 0.1,
        "y": 0.1
       },
       "content": {
        "cell": "75676a65-f58b-4f20-b4a0-1cf8f1156d71",
        "part": "whole"
       },
       "id": "7c0bb904-8702-44bd-b57b-75e61e7a5a80"
      }
     }
    },
    "f0743c29-abc3-44be-87d6-dd1d5510322d": {
     "id": "f0743c29-abc3-44be-87d6-dd1d5510322d",
     "prev": "99838ed2-6577-4917-a98b-5b45dbaff5b7",
     "regions": {
      "b058597c-5656-42c4-ae9e-74e567a11d40": {
       "attrs": {
        "height": 0.8,
        "width": 0.8,
        "x": 0.1,
        "y": 0.1
       },
       "content": {
        "cell": "d7cfbdcb-9c6c-4b9b-9d3e-c4ff15e0c74c",
        "part": "whole"
       },
       "id": "b058597c-5656-42c4-ae9e-74e567a11d40"
      }
     }
    },
    "f2a530ec-9ccc-485b-b61b-a99a778bbcba": {
     "id": "f2a530ec-9ccc-485b-b61b-a99a778bbcba",
     "prev": "2edca6cb-99a3-4cc0-ad20-0e8a9969f32c",
     "regions": {
      "3f7d423c-0b12-4667-886f-b8c5a8b455de": {
       "attrs": {
        "height": 0.8,
        "width": 0.8,
        "x": 0.1,
        "y": 0.1
       },
       "content": {
        "cell": "25aa92a1-20c9-4206-9133-ab31f96cb321",
        "part": "whole"
       },
       "id": "3f7d423c-0b12-4667-886f-b8c5a8b455de"
      }
     }
    },
    "ffa8bbfc-6d3e-4673-b0dd-4d5721947b25": {
     "id": "ffa8bbfc-6d3e-4673-b0dd-4d5721947b25",
     "prev": "b75ebba2-4536-45b6-b14d-734821fc6db5",
     "regions": {
      "66fe2eda-b793-476d-989b-7eeca28e1890": {
       "attrs": {
        "height": 0.8,
        "width": 0.8,
        "x": 0.1,
        "y": 0.1
       },
       "content": {
        "cell": "9c3800be-12ec-43a7-b24a-8cf543daf831",
        "part": "whole"
       },
       "id": "66fe2eda-b793-476d-989b-7eeca28e1890"
      }
     }
    }
   },
   "themes": {}
  }
 },
 "nbformat": 4,
 "nbformat_minor": 1
}
