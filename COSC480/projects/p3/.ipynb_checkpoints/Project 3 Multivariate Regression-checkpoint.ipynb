{
 "cells": [
  {
   "cell_type": "markdown",
   "metadata": {},
   "source": [
    "# Project Description\n",
    "\n",
    "This notebook will guide you through implementation of **multivariate linear regression** to to solve the **polynomial regression** problem:\n",
    "\n",
    "$$\n",
    "h_{w}(x) = w_0 + w_1 x + w_2 x^2 +  w_3 x^3 + w_4 x^4\n",
    "= \\boldsymbol{w}^T \\mathbf{x}\n",
    "$$\n",
    "\n",
    "$$\n",
    "\\boldsymbol{w} = \\begin{bmatrix}w_0 & w_1 & w_2 & w_3 & w_4\\end{bmatrix}^T, \n",
    "\\qquad\n",
    "\\mathbf{x} = \\begin{bmatrix}1 & x & x^2 & x^3 & x^4\\end{bmatrix}^T\n",
    "$$\n",
    "\n",
    "Below, you will\n",
    "\n",
    "1. Implement the squared error function for multivarate linear regression\n",
    "1. Implement gradient descent for multivariate linear regression\n",
    "1. Experiment with feature normalization to improve the convergence of gradient descent"
   ]
  },
  {
   "cell_type": "markdown",
   "metadata": {},
   "source": [
    "## Imports\n",
    "Run this code."
   ]
  },
  {
   "cell_type": "code",
   "execution_count": 1,
   "metadata": {
    "collapsed": true
   },
   "outputs": [],
   "source": [
    "%matplotlib inline\n",
    "%load_ext autoreload\n",
    "%autoreload 2\n",
    "import matplotlib.pyplot as plt\n",
    "import numpy as np"
   ]
  },
  {
   "cell_type": "markdown",
   "metadata": {},
   "source": [
    "## Helper functions\n",
    "Review the helper functions in `mlr`. "
   ]
  },
  {
   "cell_type": "markdown",
   "metadata": {},
   "source": [
    "## Create a data set for polynomial regression\n",
    "\n",
    "Read ``generate_data`` in ``mlr`` and then call it to generate training data.  "
   ]
  },
  {
   "cell_type": "code",
   "execution_count": 2,
   "metadata": {
    "collapsed": true
   },
   "outputs": [],
   "source": [
    "from mlr import generate_dataset\n",
    "x, y = generate_dataset()"
   ]
  },
  {
   "cell_type": "markdown",
   "metadata": {},
   "source": [
    "Plot the resulting data.   In general, your plots should be nice with labeled axes, title, etc."
   ]
  },
  {
   "cell_type": "code",
   "execution_count": 3,
   "metadata": {},
   "outputs": [
    {
     "data": {
      "text/plain": [
       "Text(0.5,1,'Plot of generated dataset')"
      ]
     },
     "execution_count": 3,
     "metadata": {},
     "output_type": "execute_result"
    },
    {
     "data": {
      "image/png": "[encoded data removed]",
      "text/plain": [
       "<matplotlib.figure.Figure at 0x22b97f50588>"
      ]
     },
     "metadata": {},
     "output_type": "display_data"
    }
   ],
   "source": [
    "# TODO: your code here\n",
    "plt.scatter(x,y)\n",
    "plt.xlabel('x')\n",
    "plt.ylabel('y')\n",
    "plt.title('Plot of generated dataset')"
   ]
  },
  {
   "cell_type": "markdown",
   "metadata": {},
   "source": [
    "## Non-linear transformation\n",
    "\n",
    "This data is clearly non-linear.  Simple linear regression will yield a poor fit to this data.\n",
    "\n",
    "We will use a non-linear feature transformation, $x \\mapsto [1, x, x^2, x^3, x^4]$, to feed into multivariate regression.  By fitting a \"line\" through these features, we are effectively fitting a polynomial of degree 4."
   ]
  },
  {
   "cell_type": "code",
   "execution_count": 4,
   "metadata": {
    "collapsed": true
   },
   "outputs": [],
   "source": [
    "from mlr import feature_expansion\n",
    "d = 4\n",
    "X = feature_expansion(x, d)"
   ]
  },
  {
   "cell_type": "markdown",
   "metadata": {},
   "source": [
    "## Code reflection\n",
    "\n",
    "The function ``feature_expansion`` accepts an vector of $n$ scalar x values and returns an $n \\times 5$ data matrix by applying the feature expansion $x \\mapsto [1, x, x^2, x^3, x^4]$ to each scalar $x$ value.  \n",
    "\n",
    "In the space below, explain what is happening in each line of ``feature_expansion``."
   ]
  },
  {
   "cell_type": "markdown",
   "metadata": {},
   "source": [
    "The first two lines of the function serve to validate the input passed to the function. The behavior of the function is defined for a one-dimensional input array, therefore the code returns an error if this is not the case.\n",
    "\n",
    "The next line uses list comprehension to create ``x_powers``, a list containing d arrays of length $n$, equal to $x^0,x^1 ... x^d$. This contains all of the new features we will need, but not in the proper shape.\n",
    "\n",
    "The last line (not counting the return) \"stacks\" the individual lists together on ``axis=1``, meaning each set is treated as a column in a new matrix that is of shape $n\\times d$. We thus have the features in the desired shape, and return ``X``."
   ]
  },
  {
   "cell_type": "markdown",
   "metadata": {},
   "source": [
    "## Implement the error function\n",
    "Complete ``error_function`` which should compute the squared error for multivariate linear regression.  \n",
    "\n",
    "$$ E_{in}(\\mathbf{w}) = \\frac{1}{N} \\sum_{i=1}^N \\left(f(x^{(i)}) - h_{\\mathbf{w}}(x^{(i)}) \\right)^2 $$\n",
    "\n",
    "Your implement should be *general* and work for any input data and weights (and not specific to this degree 4 polynomial stuff)."
   ]
  },
  {
   "cell_type": "markdown",
   "metadata": {},
   "source": [
    "## Test the error function\n",
    "Run this to test your error function."
   ]
  },
  {
   "cell_type": "code",
   "execution_count": 5,
   "metadata": {},
   "outputs": [
    {
     "name": "stdout",
     "output_type": "stream",
     "text": [
      "Error function (random): 1090.47\n",
      "Error function  (zeros): 16.91\n",
      "Error function   (ones): 50493.62\n"
     ]
    }
   ],
   "source": [
    "from mlr import error_function\n",
    "\n",
    "# generate a few different weight vectors\n",
    "np.random.seed(1)\n",
    "w_random = np.random.rand(d+1)\n",
    "w_zeros  = np.zeros(d+1)\n",
    "w_ones   = np.ones(d+1)\n",
    "\n",
    "print(\"Error function (random): %.2f\" % error_function(X, y, w_random))  # prints 1090.47\n",
    "print(\"Error function  (zeros): %.2f\" % error_function(X, y, w_zeros))   # prints 16.91\n",
    "print(\"Error function   (ones): %.2f\" % error_function(X, y, w_ones))    # prints 50493.62"
   ]
  },
  {
   "cell_type": "markdown",
   "metadata": {},
   "source": [
    "## First training algorithm: normal equations"
   ]
  },
  {
   "cell_type": "markdown",
   "metadata": {},
   "source": [
    "The function ``normal_equations`` has been provided for you.  It returns the best-fit weight vector using the closed form solution.  This may be helpful in debugging your code."
   ]
  },
  {
   "cell_type": "code",
   "execution_count": 6,
   "metadata": {},
   "outputs": [
    {
     "name": "stdout",
     "output_type": "stream",
     "text": [
      "Error function: 0.97\n"
     ]
    },
    {
     "data": {
      "image/png": "[encoded data removed]",
      "text/plain": [
       "<matplotlib.figure.Figure at 0x22b97f8f3c8>"
      ]
     },
     "metadata": {},
     "output_type": "display_data"
    }
   ],
   "source": [
    "from mlr import normal_equations, plot_model\n",
    "\n",
    "w_best = normal_equations(X, y)\n",
    "\n",
    "plot_model(x, y, w_best)\n",
    "print (\"Error function: %.2f\" % error_function(X, y, w_best))"
   ]
  },
  {
   "cell_type": "markdown",
   "metadata": {},
   "source": [
    "## Implement second training algorithm: (vectorized) gradient descent\n",
    "\n",
    "Implement gradient descent for multivariate linear regression. Make sure your solution is vectorized.  Your implementation should go in ``gradient_descent`` in ``mlr``.  Your implementation should be general and work for any X, y training data (i.e., not limited to the specific degree 4 polynomial data in this project)."
   ]
  },
  {
   "cell_type": "markdown",
   "metadata": {},
   "source": [
    "## Use gradient descent to train the model\n",
    "* Write code to call your ``gradient_descent`` method to learn weights\n",
    "* Plot the model fit (use ``plot_model``)\n",
    "* Plot the error function vs. iteration to help assess convergence\n",
    "* Print the final value of the error function\n",
    "* Experiment with different step sizes and numbers of iterations until you can find a good hypothesis. Try to match the error runction value from ``normal_equations`` to two significant digits. How many iterations does this take?"
   ]
  },
  {
   "cell_type": "code",
   "execution_count": 7,
   "metadata": {},
   "outputs": [
    {
     "name": "stdout",
     "output_type": "stream",
     "text": [
      "Error function: 0.98\n"
     ]
    },
    {
     "data": {
      "image/png": "[encoded data removed]",
      "text/plain": [
       "<matplotlib.figure.Figure at 0x22b98ec5278>"
      ]
     },
     "metadata": {},
     "output_type": "display_data"
    }
   ],
   "source": [
    "# TODO: write code here, feel free to add helper methods to mlr.py\n",
    "from mlr import gradient_descent\n",
    "w, Ein_history = gradient_descent(X,y,0.00001,100000)\n",
    "print (\"Error function: %.2f\" % error_function(X, y, w))\n",
    "plot_model(x, y, w)"
   ]
  },
  {
   "cell_type": "markdown",
   "metadata": {},
   "source": [
    "How many iterations does it take?"
   ]
  },
  {
   "cell_type": "markdown",
   "metadata": {},
   "source": [
    "In order to reach similar results as with the closed form solution, we must use a very small step size (0.00001) and 10,000 iterations. A step size of one magnitude higher causes the gradient to explode and overflow. Similarly, if we use 1,000 iterations instead we do not quite approximate the result of the normal equation."
   ]
  },
  {
   "cell_type": "markdown",
   "metadata": {},
   "source": [
    "## Gradient descent with feature normalization\n",
    "\n",
    "You should have observed that it takes many iterations of gradient descent to match the error function value achieved by the normal equations. Now you will implement feature normalization to improve the convergence of gradient descent. The formula for feature normalization is:\n",
    "\n",
    "$$x^{(i)}_j \\leftarrow \\frac{x^{(i)}_j - \\mu_j}{\\sigma_j}$$\n",
    "\n",
    "Here are some guidelines for the implementation:\n",
    "\n",
    "* The values $\\mu_j$ and $\\sigma_j$ are the mean and standard deviation of\n",
    "the $j$th column (i.e., feature) in the **training data**. (Hint:\n",
    "there are numpy functions to compute these.)\n",
    "\n",
    "* Do not normalize the first feature, $x_0$, which is the bias term and always equal to 1. (Optional question: why?)\n",
    "\n",
    "* Use broadcasting to do the normalization---don't write for loops\n",
    "\n",
    "* After normalizing the training data and running gradient descent to obtain a weight vector, you need to translate that weight vector back to the original unnormalized feature values.  See question below."
   ]
  },
  {
   "cell_type": "markdown",
   "metadata": {},
   "source": [
    "## Why not to regularize $x_0$\n",
    "Given that all values in $x_0$ are equal to one, then $\\sigma_0 = 0$, and therefore regularizing this feature would lead to a division by zero."
   ]
  },
  {
   "cell_type": "markdown",
   "metadata": {},
   "source": [
    "## Un-normalizing weights\n",
    "How do you \"unnormalize\" the weights?  Let's use $\\mathbf{\\hat{w}} = [\\hat{w}_0, \\hat{w}_1, \\dots, \\hat{w}_d]^t$ to denote the weights found on the *normalized* training data.  The key is unnormalizing is to make sure you make the *same* prediction on the unnormalized data as you make on the normalized data.\n",
    "\n",
    "Let $\\mathbf{x}$ be a training example and let $\\mathbf{\\hat{x}}$ be this same example after normalization.  Since $\\mathbf{\\hat{x}}$ is normalized, $\\hat{x}_j = \\frac{x_j - \\mu_j}{\\sigma_j}$ for each feature $j = 1 \\dots d$; note that $\\hat{x}_0$ is not normalized, so $\\hat{x}_0 = x_0 = 1$.\n",
    "\n",
    "Our prediction on a normalized example is:\n",
    "$h_{\\mathbf{\\hat{w}}}(\\mathbf{\\hat{x}}) = \\sum_{j=0}^d\\hat{w}_j \\hat{x}_j = \\hat{w}_0 x_0 + \\sum_{j=1}^d\\hat{w}_j \\frac{x_j - \\mu_j}{\\sigma_j}$.\n",
    "\n",
    "Our prediction on an unnormalized example is simply:\n",
    "$h_{\\mathbf{{w}}}(\\mathbf{{x}}) = \\sum_{j=0}^d {w}_j {x}_j$.  But the question is: how do we derive $\\mathbf{w}$ from $\\mathbf{\\hat{w}}$?\n",
    "\n",
    "\n",
    "Write an expression for the unnormalized weights.  The $w_j$ terms should be fairly simple except for $w_0$ which be a little messy.  Your solution for $\\mathbf{{w}}$ should satisfy: $h_{\\mathbf{{w}}}(\\mathbf{{x}}) = h_{\\mathbf{\\hat{w}}}(\\mathbf{\\hat{x}})$ for any $\\mathbf{x}$ and its corresponding normalized version $\\mathbf{\\hat{w}}$."
   ]
  },
  {
   "cell_type": "markdown",
   "metadata": {},
   "source": [
    "** *TODO: write your answer here* ** \n"
   ]
  },
  {
   "cell_type": "markdown",
   "metadata": {},
   "source": [
    "## Repeat experiment\n",
    "Follow the same steps as above to experiment with gradient descent using the *normalized* training: print the value of the error function, and create the same plots. Tune the step size and number of iterations again to make gradient descent converge as quickly as possible. How many iterations does it take to match the Error function value from ``normal_equations`` to two decimal places?  "
   ]
  },
  {
   "cell_type": "code",
   "execution_count": 32,
   "metadata": {},
   "outputs": [
    {
     "data": {
      "text/plain": [
       "array([[ 1.        ,  0.26368103, -1.06270849,  0.10959752, -0.75518334],\n",
       "       [ 1.        ,  0.84077065, -0.48979703,  0.31427058, -0.63002882],\n",
       "       [ 1.        ,  0.45081101, -0.95604595,  0.12973371, -0.74898928],\n",
       "       [ 1.        ,  0.25004836, -1.0675118 ,  0.10905939, -0.75527811],\n",
       "       [ 1.        , -0.17044317, -1.01776337,  0.09793241, -0.75352749]])"
      ]
     },
     "execution_count": 32,
     "metadata": {},
     "output_type": "execute_result"
    }
   ],
   "source": [
    "# normalize features\n",
    "from mlr import normalize\n",
    "X_norm = normalize(X)\n",
    "\n",
    "# gradient descent\n",
    "w, Ein_history = gradient_descent(X_norm,y,0.00001,1000)\n",
    "print (\"Error function: %.2f\" % error_function(X_norm, y, w))\n",
    "plot_model(x, y, w)"
   ]
  },
  {
   "cell_type": "markdown",
   "metadata": {},
   "source": [
    "How many iterations, after feature normalization, does it take?"
   ]
  },
  {
   "cell_type": "markdown",
   "metadata": {},
   "source": [
    "** *TODO: write your answer here* **"
   ]
  }
 ],
 "metadata": {
  "kernelspec": {
   "display_name": "Python 3",
   "language": "python",
   "name": "python3"
  },
  "language_info": {
   "codemirror_mode": {
    "name": "ipython",
    "version": 3
   },
   "file_extension": ".py",
   "mimetype": "text/x-python",
   "name": "python",
   "nbconvert_exporter": "python",
   "pygments_lexer": "ipython3",
   "version": "3.6.3"
  }
 },
 "nbformat": 4,
 "nbformat_minor": 2
}
